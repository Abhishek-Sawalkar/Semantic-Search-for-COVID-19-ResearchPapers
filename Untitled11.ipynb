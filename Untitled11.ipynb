{
  "nbformat": 4,
  "nbformat_minor": 0,
  "metadata": {
    "colab": {
      "name": "Untitled11.ipynb",
      "provenance": [],
      "collapsed_sections": [
        "BF2M-3CrLAsD"
      ]
    },
    "kernelspec": {
      "name": "python3",
      "display_name": "Python 3"
    },
    "accelerator": "GPU",
    "widgets": {
      "application/vnd.jupyter.widget-state+json": {
        "39ff9ab2d20d4ce9b51166e7361dbba7": {
          "model_module": "@jupyter-widgets/controls",
          "model_name": "HBoxModel",
          "state": {
            "_view_name": "HBoxView",
            "_dom_classes": [],
            "_model_name": "HBoxModel",
            "_view_module": "@jupyter-widgets/controls",
            "_model_module_version": "1.5.0",
            "_view_count": null,
            "_view_module_version": "1.5.0",
            "box_style": "",
            "layout": "IPY_MODEL_dce8564192e24abb97254ae702e02a2a",
            "_model_module": "@jupyter-widgets/controls",
            "children": [
              "IPY_MODEL_f89e1443abda42689d17ac8f3f646f4f",
              "IPY_MODEL_c70d9f76f82a456d9118bbfbc3193369"
            ]
          }
        },
        "dce8564192e24abb97254ae702e02a2a": {
          "model_module": "@jupyter-widgets/base",
          "model_name": "LayoutModel",
          "state": {
            "_view_name": "LayoutView",
            "grid_template_rows": null,
            "right": null,
            "justify_content": null,
            "_view_module": "@jupyter-widgets/base",
            "overflow": null,
            "_model_module_version": "1.2.0",
            "_view_count": null,
            "flex_flow": null,
            "width": null,
            "min_width": null,
            "border": null,
            "align_items": null,
            "bottom": null,
            "_model_module": "@jupyter-widgets/base",
            "top": null,
            "grid_column": null,
            "overflow_y": null,
            "overflow_x": null,
            "grid_auto_flow": null,
            "grid_area": null,
            "grid_template_columns": null,
            "flex": null,
            "_model_name": "LayoutModel",
            "justify_items": null,
            "grid_row": null,
            "max_height": null,
            "align_content": null,
            "visibility": null,
            "align_self": null,
            "height": null,
            "min_height": null,
            "padding": null,
            "grid_auto_rows": null,
            "grid_gap": null,
            "max_width": null,
            "order": null,
            "_view_module_version": "1.2.0",
            "grid_template_areas": null,
            "object_position": null,
            "object_fit": null,
            "grid_auto_columns": null,
            "margin": null,
            "display": null,
            "left": null
          }
        },
        "f89e1443abda42689d17ac8f3f646f4f": {
          "model_module": "@jupyter-widgets/controls",
          "model_name": "FloatProgressModel",
          "state": {
            "_view_name": "ProgressView",
            "style": "IPY_MODEL_374933043c4048cfb82ce075cf7711e7",
            "_dom_classes": [],
            "description": "Batches: 100%",
            "_model_name": "FloatProgressModel",
            "bar_style": "success",
            "max": 1,
            "_view_module": "@jupyter-widgets/controls",
            "_model_module_version": "1.5.0",
            "value": 1,
            "_view_count": null,
            "_view_module_version": "1.5.0",
            "orientation": "horizontal",
            "min": 0,
            "description_tooltip": null,
            "_model_module": "@jupyter-widgets/controls",
            "layout": "IPY_MODEL_895824862bee42a48fd9a1f7be7e4d5a"
          }
        },
        "c70d9f76f82a456d9118bbfbc3193369": {
          "model_module": "@jupyter-widgets/controls",
          "model_name": "HTMLModel",
          "state": {
            "_view_name": "HTMLView",
            "style": "IPY_MODEL_30208b3fca484735bdd121eb41ebbe8e",
            "_dom_classes": [],
            "description": "",
            "_model_name": "HTMLModel",
            "placeholder": "​",
            "_view_module": "@jupyter-widgets/controls",
            "_model_module_version": "1.5.0",
            "value": " 1/1 [00:00&lt;00:00,  2.33it/s]",
            "_view_count": null,
            "_view_module_version": "1.5.0",
            "description_tooltip": null,
            "_model_module": "@jupyter-widgets/controls",
            "layout": "IPY_MODEL_e3c37be04d014af793f4679a3bcf10ba"
          }
        },
        "374933043c4048cfb82ce075cf7711e7": {
          "model_module": "@jupyter-widgets/controls",
          "model_name": "ProgressStyleModel",
          "state": {
            "_view_name": "StyleView",
            "_model_name": "ProgressStyleModel",
            "description_width": "initial",
            "_view_module": "@jupyter-widgets/base",
            "_model_module_version": "1.5.0",
            "_view_count": null,
            "_view_module_version": "1.2.0",
            "bar_color": null,
            "_model_module": "@jupyter-widgets/controls"
          }
        },
        "895824862bee42a48fd9a1f7be7e4d5a": {
          "model_module": "@jupyter-widgets/base",
          "model_name": "LayoutModel",
          "state": {
            "_view_name": "LayoutView",
            "grid_template_rows": null,
            "right": null,
            "justify_content": null,
            "_view_module": "@jupyter-widgets/base",
            "overflow": null,
            "_model_module_version": "1.2.0",
            "_view_count": null,
            "flex_flow": null,
            "width": null,
            "min_width": null,
            "border": null,
            "align_items": null,
            "bottom": null,
            "_model_module": "@jupyter-widgets/base",
            "top": null,
            "grid_column": null,
            "overflow_y": null,
            "overflow_x": null,
            "grid_auto_flow": null,
            "grid_area": null,
            "grid_template_columns": null,
            "flex": null,
            "_model_name": "LayoutModel",
            "justify_items": null,
            "grid_row": null,
            "max_height": null,
            "align_content": null,
            "visibility": null,
            "align_self": null,
            "height": null,
            "min_height": null,
            "padding": null,
            "grid_auto_rows": null,
            "grid_gap": null,
            "max_width": null,
            "order": null,
            "_view_module_version": "1.2.0",
            "grid_template_areas": null,
            "object_position": null,
            "object_fit": null,
            "grid_auto_columns": null,
            "margin": null,
            "display": null,
            "left": null
          }
        },
        "30208b3fca484735bdd121eb41ebbe8e": {
          "model_module": "@jupyter-widgets/controls",
          "model_name": "DescriptionStyleModel",
          "state": {
            "_view_name": "StyleView",
            "_model_name": "DescriptionStyleModel",
            "description_width": "",
            "_view_module": "@jupyter-widgets/base",
            "_model_module_version": "1.5.0",
            "_view_count": null,
            "_view_module_version": "1.2.0",
            "_model_module": "@jupyter-widgets/controls"
          }
        },
        "e3c37be04d014af793f4679a3bcf10ba": {
          "model_module": "@jupyter-widgets/base",
          "model_name": "LayoutModel",
          "state": {
            "_view_name": "LayoutView",
            "grid_template_rows": null,
            "right": null,
            "justify_content": null,
            "_view_module": "@jupyter-widgets/base",
            "overflow": null,
            "_model_module_version": "1.2.0",
            "_view_count": null,
            "flex_flow": null,
            "width": null,
            "min_width": null,
            "border": null,
            "align_items": null,
            "bottom": null,
            "_model_module": "@jupyter-widgets/base",
            "top": null,
            "grid_column": null,
            "overflow_y": null,
            "overflow_x": null,
            "grid_auto_flow": null,
            "grid_area": null,
            "grid_template_columns": null,
            "flex": null,
            "_model_name": "LayoutModel",
            "justify_items": null,
            "grid_row": null,
            "max_height": null,
            "align_content": null,
            "visibility": null,
            "align_self": null,
            "height": null,
            "min_height": null,
            "padding": null,
            "grid_auto_rows": null,
            "grid_gap": null,
            "max_width": null,
            "order": null,
            "_view_module_version": "1.2.0",
            "grid_template_areas": null,
            "object_position": null,
            "object_fit": null,
            "grid_auto_columns": null,
            "margin": null,
            "display": null,
            "left": null
          }
        }
      }
    }
  },
  "cells": [
    {
      "cell_type": "markdown",
      "metadata": {
        "id": "qTTkJMwwNq8b",
        "colab_type": "text"
      },
      "source": [
        "# Semantic-Search-for-COVID-19-ResearchPapers"
      ]
    },
    {
      "cell_type": "markdown",
      "metadata": {
        "id": "3Ah1M2vmNycn",
        "colab_type": "text"
      },
      "source": [
        "This work builds a semantic search engine using BERT, to search a query through the dataset of research papers provided as part of Kaggle's competion CORD-19-research-challenge\n",
        "\n",
        "This work, \n",
        "1.   first divides the dataset to paragraphs\n",
        "2.   then uses BERT to embedded paragraphs of papers using bert-base-nli-mean-tokens pretrained model\n",
        "3.   finally runs a query and returns the top 5 paragraphs and their papers' titles,abstract,abstract_summary"
      ]
    },
    {
      "cell_type": "code",
      "metadata": {
        "id": "RvqIKlWQN4cQ",
        "colab_type": "code",
        "colab": {}
      },
      "source": [
        "!pip install -U sentence-transformers"
      ],
      "execution_count": null,
      "outputs": []
    },
    {
      "cell_type": "code",
      "metadata": {
        "id": "i_IQoZDRK53Z",
        "colab_type": "code",
        "colab": {}
      },
      "source": [
        "from google.colab import files\n",
        "\n",
        "# Install Kaggle library\n",
        "!pip install -q kaggle\n",
        "u = files.upload()\n",
        "# upload ur kaggle api\n",
        "!mkdir -p ~/.kaggle\n",
        "!cp kaggle.json ~/.kaggle/\n",
        "!chmod 600 /root/.kaggle/kaggle.json\n",
        "# kaggle dataset\n",
        "!kaggle datasets download -d allen-institute-for-ai/CORD-19-research-challenge\n",
        "!unzip  CORD-19-research-challenge.zip -d /content/CORD-19-research-challenge"
      ],
      "execution_count": null,
      "outputs": []
    },
    {
      "cell_type": "markdown",
      "metadata": {
        "id": "BF2M-3CrLAsD",
        "colab_type": "text"
      },
      "source": [
        "## Data Processing"
      ]
    },
    {
      "cell_type": "code",
      "metadata": {
        "id": "OEMn08bDK5xk",
        "colab_type": "code",
        "colab": {}
      },
      "source": [
        "import glob\n",
        "import json\n",
        "import pandas as pd\n",
        "from tqdm import tqdm\n",
        "root_path = '/content/CORD-19-research-challenge/'\n",
        "all_json = glob.glob(f'{root_path}/**/*.json', recursive=True)\n",
        "len(all_json)"
      ],
      "execution_count": null,
      "outputs": []
    },
    {
      "cell_type": "code",
      "metadata": {
        "id": "9NBm424VK5sF",
        "colab_type": "code",
        "colab": {}
      },
      "source": [
        "metadata_path = f'{root_path}/metadata.csv'\n",
        "meta_df = pd.read_csv(metadata_path, dtype={\n",
        "    'pubmed_id': str,\n",
        "    'Microsoft Academic Paper ID': str, \n",
        "    'doi': str\n",
        "})\n",
        "meta_df['abstract']=meta_df['abstract'].astype(str)\n",
        "meta_df.head()"
      ],
      "execution_count": null,
      "outputs": []
    },
    {
      "cell_type": "code",
      "metadata": {
        "id": "HqOY3z8CLIdv",
        "colab_type": "code",
        "colab": {}
      },
      "source": [
        "print(all_json[0])\n",
        "\n",
        "with open(all_json[0]) as file:\n",
        "    content = json.load(file)\n",
        "print(content.keys())"
      ],
      "execution_count": null,
      "outputs": []
    },
    {
      "cell_type": "code",
      "metadata": {
        "id": "xaHH6hN8LIf5",
        "colab_type": "code",
        "colab": {}
      },
      "source": [
        "class FileReader:\n",
        "    def __init__(self, file_path):\n",
        "        with open(file_path) as file:\n",
        "            content = json.load(file)\n",
        "            self.paper_id = content['paper_id']\n",
        "            print(self.paper_id)\n",
        "            # self.abstract = []\n",
        "            self.body_text = []\n",
        "            # # Abstract\n",
        "            # for entry in content['abstract']:\n",
        "            #     self.abstract.append(entry['text'])\n",
        "            # Body text\n",
        "            for entry in content['body_text']:\n",
        "                self.body_text.append(entry['text'])\n",
        "            # self.abstract = '\\n'.join(self.abstract)\n",
        "            self.body_text = '\\n'.join(self.body_text)\n",
        "    def __repr__(self):\n",
        "        return f'{self.paper_id}: {self.body_text[:200]}...'\n",
        "first_row = FileReader(all_json[0])\n",
        "print(first_row)"
      ],
      "execution_count": null,
      "outputs": []
    },
    {
      "cell_type": "code",
      "metadata": {
        "id": "Xe5b99JiLIqI",
        "colab_type": "code",
        "colab": {}
      },
      "source": [
        "def get_breaks(content, length):\n",
        "    data = \"\"\n",
        "    # print(content)\n",
        "    word = content.split(' ')\n",
        "    total_chars = 0\n",
        "    for i in range(len(word)):\n",
        "        total_chars += len(word[i])\n",
        "        if total_chars > length:\n",
        "            data = data + \"<br>\" + word[i]\n",
        "            total_chars = 0\n",
        "        else:\n",
        "            data = data + \" \" + word[i]\n",
        "\n",
        "    return data"
      ],
      "execution_count": null,
      "outputs": []
    },
    {
      "cell_type": "code",
      "metadata": {
        "id": "GiliZSkPLImL",
        "colab_type": "code",
        "colab": {}
      },
      "source": [
        "dict_ = {'paper_id' : [], 'abstract' : [], 'body_text' : [], 'authors': [], 'title': [], 'journal': [], 'abstract_summary': []}\n",
        "for idx, entry in enumerate(all_json):\n",
        "    if idx % (len(all_json)//10) == 0:\n",
        "        print(f'                            Processing index : {idx} out of {len(all_json)}')\n",
        "    content = FileReader(entry)\n",
        "\n",
        "    # get meta data\n",
        "    meta_data = meta_df.loc[meta_df.sha == content.paper_id]\n",
        "    if len(meta_data) == 0:\n",
        "        continue\n",
        "    dict_['paper_id'].append(content.paper_id)\n",
        "    dict_['abstract'].append('\\n'.join(meta_data.abstract))\n",
        "    # print(meta_data['abstract'].values[0])\n",
        "    dict_['body_text'].append(content.body_text)\n",
        "\n",
        "    try:\n",
        "        authors = meta_data['authors'].values[0].split(';')\n",
        "         # we used .values[0] coz if we use .values then it will return array \n",
        "         # and will give error coz we cannot apply .split() to an array\n",
        "        if len(authors) > 2:\n",
        "            dict_['authors'].append('. '.join(authors[:2]) + \"...\")\n",
        "        else:\n",
        "            dict_['authors'].append('. '.join(authors))\n",
        "    except Exception as e:\n",
        "        # if #authors = 1 or 0 then it will come here\n",
        "        dict_['authors'].append(meta_data['authors'].values[0])\n",
        "    \n",
        "    try:\n",
        "        title = get_breaks(meta_data['title'].values[0], 40)\n",
        "        dict_['title'].append(title)\n",
        "    except Exception as e:\n",
        "        dict_['title'].append(meta_data['title'].values[0])\n",
        "        \n",
        "    dict_['journal'].append(meta_data['journal'].values[0])\n",
        "\n",
        "    if len(meta_data.abstract) == 0:\n",
        "        # if no abstract\n",
        "        dict_['abstract_summary'].append('Not Provided.')\n",
        "    elif len(meta_data.abstract.values[0].split(' ')) > 100:\n",
        "        # if abstract is too long cut it to 100 also per line 40 words only\n",
        "        # ' '.join(info)\n",
        "        info = meta_data.abstract.values[0].split(' ')[:100]\n",
        "        print(info)\n",
        "        summary = get_breaks(' '.join(info), 40)\n",
        "        dict_['abstract_summary'].append(summary + \"...\")\n",
        "    else:\n",
        "        # if less than 100 just append it with 40 words per line\n",
        "        summary = get_breaks(' '.join(meta_data.abstract), 40)\n",
        "        dict_['abstract_summary'].append(summary)\n",
        "\n",
        "\n",
        "df_covid = pd.DataFrame(dict_, columns=['paper_id', 'abstract', 'body_text', 'authors', 'title', 'journal', 'abstract_summary'])\n",
        "print(df_covid.head())\n",
        "print(f'df size : {len(df_covid)}')\n",
        "df_covid.drop_duplicates(['abstract', 'body_text'], inplace=True)\n"
      ],
      "execution_count": null,
      "outputs": []
    },
    {
      "cell_type": "code",
      "metadata": {
        "id": "vFrnbtUyLIZW",
        "colab_type": "code",
        "colab": {}
      },
      "source": [
        "print(df_covid['abstract'].describe(include = 'all'))\n",
        "print(df_covid['body_text'].describe(include='all'))"
      ],
      "execution_count": null,
      "outputs": []
    },
    {
      "cell_type": "code",
      "metadata": {
        "id": "wxw0fX3JK5nP",
        "colab_type": "code",
        "colab": {}
      },
      "source": [
        "df_covid.dropna(inplace=True)\n",
        "df_covid.info()"
      ],
      "execution_count": null,
      "outputs": []
    },
    {
      "cell_type": "markdown",
      "metadata": {
        "id": "-XNR46n4MFsk",
        "colab_type": "text"
      },
      "source": [
        "### Data pre process"
      ]
    },
    {
      "cell_type": "code",
      "metadata": {
        "id": "mR9ChnP0MHF9",
        "colab_type": "code",
        "colab": {}
      },
      "source": [
        "df_covid = df_covid.head(3000)"
      ],
      "execution_count": null,
      "outputs": []
    },
    {
      "cell_type": "code",
      "metadata": {
        "id": "RsVxvDqcMHca",
        "colab_type": "code",
        "colab": {}
      },
      "source": [
        "import re\n",
        "\n",
        "df_covid['body_text'] = df_covid['body_text'].apply(lambda x: re.sub('[^a-zA-z0-9\\s]', '', x))\n",
        "df_covid['abstract'] = df_covid['abstract'].apply(lambda x: re.sub('[^a-zA-z0-9\\s]', '', x))\n",
        "\n",
        "df_covid['body_text'] = df_covid['body_text'].apply(lambda x: x.lower())\n",
        "df_covid['abstract'] = df_covid['abstract'].apply(lambda x: x.lower())"
      ],
      "execution_count": null,
      "outputs": []
    },
    {
      "cell_type": "code",
      "metadata": {
        "id": "XgAJ3iKYMHg_",
        "colab_type": "code",
        "colab": {}
      },
      "source": [
        "text = df_covid.drop([\"authors\", \"journal\", \"Unnamed: 0\"], axis=1)\n",
        "text = text.reset_index()\n",
        "text.head()"
      ],
      "execution_count": null,
      "outputs": []
    },
    {
      "cell_type": "code",
      "metadata": {
        "id": "poLh1uoHMHLd",
        "colab_type": "code",
        "colab": {}
      },
      "source": [
        "from tqdm import tqdm\n",
        "\n",
        "text_dict = text.to_dict()\n",
        "len_text = len(text_dict[\"paper_id\"])"
      ],
      "execution_count": null,
      "outputs": []
    },
    {
      "cell_type": "code",
      "metadata": {
        "id": "8HIojvBkK5hk",
        "colab_type": "code",
        "colab": {}
      },
      "source": [
        "paper_id_list  = []\n",
        "body_text_list = []\n",
        "\n",
        "title_list = []\n",
        "abstract_list = []\n",
        "abstract_summary_list = []\n",
        "for i in tqdm(range(0,len_text)):\n",
        "  paper_id = text_dict[\"paper_id\"][i]\n",
        "  body_text = text_dict[\"body_text\"][i].split(\"\\n\")\n",
        "  title = text_dict[\"title\"][i]\n",
        "  abstract = text_dict[\"abstract\"][i]\n",
        "  abstract_summary = text_dict[\"abstract_summary\"][i]\n",
        "  for b in body_text:\n",
        "    paper_id_list.append(paper_id)\n",
        "    body_text_list.append(b)\n",
        "    title_list.append(title)\n",
        "    abstract_list.append(abstract)\n",
        "    abstract_summary_list.append(abstract_summary)"
      ],
      "execution_count": null,
      "outputs": []
    },
    {
      "cell_type": "code",
      "metadata": {
        "id": "anZs2ThlMpwE",
        "colab_type": "code",
        "colab": {}
      },
      "source": [
        "df = pd.DataFrame({\"paper_id\":paper_id_list,\"title\":title_list,\"abstract\":abstract_list,\"abstract_summary\":abstract_summary_list},index=body_text_list)"
      ],
      "execution_count": null,
      "outputs": []
    },
    {
      "cell_type": "code",
      "metadata": {
        "id": "T-Q9ryiOMqFp",
        "colab_type": "code",
        "colab": {}
      },
      "source": [
        "from google.colab import drive\n",
        "drive.mount('drive')\n",
        "df.to_csv('covid_everything.csv')\n",
        "!cp covid_everything.csv \"drive/My Drive/datasets\""
      ],
      "execution_count": null,
      "outputs": []
    },
    {
      "cell_type": "code",
      "metadata": {
        "id": "edcC_c-aMp1f",
        "colab_type": "code",
        "colab": {}
      },
      "source": [
        "df_sentences = pd.DataFrame({\"paper_id\":paper_id_list},index=body_text_list)\n",
        "df_sentences.head()"
      ],
      "execution_count": null,
      "outputs": []
    },
    {
      "cell_type": "code",
      "metadata": {
        "id": "WVlqYncgMpom",
        "colab_type": "code",
        "colab": {}
      },
      "source": [
        "df_sentences.to_csv('covid_sent.csv')\n",
        "!cp covid_sent.csv \"drive/My Drive/datasets\""
      ],
      "execution_count": null,
      "outputs": []
    },
    {
      "cell_type": "markdown",
      "metadata": {
        "id": "O9AhrQiMNFyj",
        "colab_type": "text"
      },
      "source": [
        "## Preparing Data for Embedding"
      ]
    },
    {
      "cell_type": "code",
      "metadata": {
        "id": "koLyt5q6DPKe",
        "colab_type": "code",
        "colab": {
          "base_uri": "https://localhost:8080/",
          "height": 34
        },
        "outputId": "683d1224-5340-4769-e038-04ff86ecbc08"
      },
      "source": [
        "#IMPORT 'covid_everything.csv' FROM DRIVE INTO GOOGLE-COLAB:\n",
        "\n",
        "!pip install -U -q PyDrive\n",
        "from pydrive.auth import GoogleAuth\n",
        "from pydrive.drive import GoogleDrive\n",
        "from google.colab import auth\n",
        "from oauth2client.client import GoogleCredentials\n",
        "\n",
        "auth.authenticate_user()\n",
        "gauth = GoogleAuth()\n",
        "gauth.credentials = GoogleCredentials.get_application_default()\n",
        "drive = GoogleDrive(gauth)\n",
        "\n",
        "#2.1 Get the file\n",
        "downloaded = drive.CreateFile({'id':'1fTYcZZjXzMQmt-xjL2UMpFxlWcwWrIGB'})\n",
        "downloaded.GetContentFile('covid_everything.csv')  # file name to be imported to colab\n",
        "\n",
        "# for unzipping use\n",
        "!unzip file_name\n"
      ],
      "execution_count": null,
      "outputs": [
        {
          "output_type": "stream",
          "text": [
            "unzip:  cannot find or open file_name, file_name.zip or file_name.ZIP.\n"
          ],
          "name": "stdout"
        }
      ]
    },
    {
      "cell_type": "code",
      "metadata": {
        "id": "Km-bIRfFKBji",
        "colab_type": "code",
        "colab": {}
      },
      "source": [
        "import pandas as pd\n",
        "\n",
        "df_covid = pd.read_csv('covid_everything.csv')\n",
        "df = pd.DataFrame(df_covid)\n"
      ],
      "execution_count": null,
      "outputs": []
    },
    {
      "cell_type": "code",
      "metadata": {
        "id": "qs_y0-Gsgmua",
        "colab_type": "code",
        "colab": {
          "base_uri": "https://localhost:8080/",
          "height": 964
        },
        "outputId": "08ed9651-8c6d-4788-e002-eea00dfc68d1"
      },
      "source": [
        "df = df.set_index(\"Unnamed: 0\")\n",
        "df.head()"
      ],
      "execution_count": null,
      "outputs": [
        {
          "output_type": "execute_result",
          "data": {
            "text/html": [
              "<div>\n",
              "<style scoped>\n",
              "    .dataframe tbody tr th:only-of-type {\n",
              "        vertical-align: middle;\n",
              "    }\n",
              "\n",
              "    .dataframe tbody tr th {\n",
              "        vertical-align: top;\n",
              "    }\n",
              "\n",
              "    .dataframe thead th {\n",
              "        text-align: right;\n",
              "    }\n",
              "</style>\n",
              "<table border=\"1\" class=\"dataframe\">\n",
              "  <thead>\n",
              "    <tr style=\"text-align: right;\">\n",
              "      <th></th>\n",
              "      <th>paper_id</th>\n",
              "      <th>title</th>\n",
              "      <th>abstract</th>\n",
              "      <th>abstract_summary</th>\n",
              "    </tr>\n",
              "    <tr>\n",
              "      <th>Unnamed: 0</th>\n",
              "      <th></th>\n",
              "      <th></th>\n",
              "      <th></th>\n",
              "      <th></th>\n",
              "    </tr>\n",
              "  </thead>\n",
              "  <tbody>\n",
              "    <tr>\n",
              "      <th>respiratory syncytial virus rsv is an important pathogen of the human respiratory tract borchers et al 2013  rsv infection results in viral bronchiolitis in around 30 of infants who become infected and it can result in lifethreatening severe bronchiolitis and viral pneumonia smyth and openshaw 2006  rsv causes significant mortality in the developing world resulting in an estimated 200000 annual deaths in young children globally in addition to major morbidity 338 million episodes worldwide annually nair et al 2010  besides rsv is a leading cause of morbidity and mortality in elderly and immunocompromised individuals kwon et al 2017</th>\n",
              "      <td>33d14ff5ca29615978c7925403da22600922f9b4</td>\n",
              "      <td>Imiquimod suppresses respiratory syncytial&lt;br...</td>\n",
              "      <td>abstract respiratory syncytial virus rsv is a ...</td>\n",
              "      <td>Abstract Respiratory syncytial virus (RSV) is...</td>\n",
              "    </tr>\n",
              "    <tr>\n",
              "      <th>despite the prevalence of rsv bronchiolitis there is no vaccine available and apart from supportive measures there is no specific effective treatment since routine use of bronchodilators or antiviral ribavirin has been proven to be of no significant benefit tregoning and schwarze 2010 turner et al 2014  therefore a clearer understanding of host defense factors that contribute to effective protection against rsv infection and disease is urgently needed and could provide substantial help to the development of novel therapeutic strategies</th>\n",
              "      <td>33d14ff5ca29615978c7925403da22600922f9b4</td>\n",
              "      <td>Imiquimod suppresses respiratory syncytial&lt;br...</td>\n",
              "      <td>abstract respiratory syncytial virus rsv is a ...</td>\n",
              "      <td>Abstract Respiratory syncytial virus (RSV) is...</td>\n",
              "    </tr>\n",
              "    <tr>\n",
              "      <th>during the early course of most viral infections antiviral immunity is induced through pattern recognition receptors such as tolllike receptors tlr which stimulate the innate immune response tlr can trigger cytokine secretion dendritic cell maturation and antigen presentation which in turn can enhance the adaptive immune response uematsu and akira 2006  because of this ability to induce innate and adaptive responses tlr agonists have been explored as antiviral therapeutic agents tlr3 tlr4 tlr7 tlr8 and tlr9 agonists have been successfully applied to nonhuman primate models of dengue virus and hepatitis b virus hbv and in murine models for influenza and herpes simplex virus hsv boivin et al 2008 zhang et al 2009 boukhvalova et al 2010 sariol et al 2011 shinya et al 2011 tuvim et al 2012 lanford et al 2013 lucifora et al 2018 to et al 2019  particularly in the mouse model of rsv prophylactic treatment with a tlr3 agonist not only reduces viral replication in the lungs but also results in an amelioration of the clinical illness and a reduction in lung inflammation guerreroplata et al 2005</th>\n",
              "      <td>33d14ff5ca29615978c7925403da22600922f9b4</td>\n",
              "      <td>Imiquimod suppresses respiratory syncytial&lt;br...</td>\n",
              "      <td>abstract respiratory syncytial virus rsv is a ...</td>\n",
              "      <td>Abstract Respiratory syncytial virus (RSV) is...</td>\n",
              "    </tr>\n",
              "    <tr>\n",
              "      <th>in order to provide further insight into the potential of tlr agonists to induce antiviral and immunomodulatory activities in rsv infections the aim of the present study was to test the antirsv activity of different tlr agonists in epithelial cells moreover we extended the testing for imiquimod tlr7 agonist in order to analyze its antiviral mode of action against rsv in vitro as well as its effect on the production of different cytokines in rsvinfected epithelial and macrophages finally we studied the activity of imiquimod against rsv infection in a murine model of pulmonary infection</th>\n",
              "      <td>33d14ff5ca29615978c7925403da22600922f9b4</td>\n",
              "      <td>Imiquimod suppresses respiratory syncytial&lt;br...</td>\n",
              "      <td>abstract respiratory syncytial virus rsv is a ...</td>\n",
              "      <td>Abstract Respiratory syncytial virus (RSV) is...</td>\n",
              "    </tr>\n",
              "    <tr>\n",
              "      <th>lps tlr4 ligand from escherichia coli serotype 055b5 n62phenylisopropyl adenosine rpia dibutyryl camp dbcamp and forskolin were obtained from sigma</th>\n",
              "      <td>33d14ff5ca29615978c7925403da22600922f9b4</td>\n",
              "      <td>Imiquimod suppresses respiratory syncytial&lt;br...</td>\n",
              "      <td>abstract respiratory syncytial virus rsv is a ...</td>\n",
              "      <td>Abstract Respiratory syncytial virus (RSV) is...</td>\n",
              "    </tr>\n",
              "  </tbody>\n",
              "</table>\n",
              "</div>"
            ],
            "text/plain": [
              "                                                                                    paper_id  ...                                   abstract_summary\n",
              "Unnamed: 0                                                                                    ...                                                   \n",
              "respiratory syncytial virus rsv is an important...  33d14ff5ca29615978c7925403da22600922f9b4  ...   Abstract Respiratory syncytial virus (RSV) is...\n",
              "despite the prevalence of rsv bronchiolitis the...  33d14ff5ca29615978c7925403da22600922f9b4  ...   Abstract Respiratory syncytial virus (RSV) is...\n",
              "during the early course of most viral infection...  33d14ff5ca29615978c7925403da22600922f9b4  ...   Abstract Respiratory syncytial virus (RSV) is...\n",
              "in order to provide further insight into the po...  33d14ff5ca29615978c7925403da22600922f9b4  ...   Abstract Respiratory syncytial virus (RSV) is...\n",
              "lps tlr4 ligand from escherichia coli serotype ...  33d14ff5ca29615978c7925403da22600922f9b4  ...   Abstract Respiratory syncytial virus (RSV) is...\n",
              "\n",
              "[5 rows x 4 columns]"
            ]
          },
          "metadata": {
            "tags": []
          },
          "execution_count": 4
        }
      ]
    },
    {
      "cell_type": "code",
      "metadata": {
        "id": "9j8vbT1oKRpr",
        "colab_type": "code",
        "colab": {}
      },
      "source": [
        "#IMPORT 'covid_everything.csv' FROM DRIVE INTO GOOGLE-COLAB:\n",
        "\n",
        "downloaded = drive.CreateFile({'id':'1FK3-pUpETV6qViCWx5TOIfO7LFsuGp_Q'})\n",
        "downloaded.GetContentFile('covid_sent.csv')  # file name to be imported to colab"
      ],
      "execution_count": null,
      "outputs": []
    },
    {
      "cell_type": "code",
      "metadata": {
        "id": "6kINF6MyKeKl",
        "colab_type": "code",
        "colab": {
          "base_uri": "https://localhost:8080/",
          "height": 611
        },
        "outputId": "0075cdf1-ed0e-4775-d76b-f60b397bf226"
      },
      "source": [
        "df_sentences = pd.read_csv(\"covid_sent.csv\")\n",
        "df_sentences = df_sentences.set_index(\"Unnamed: 0\")\n",
        "df_sentences.head()"
      ],
      "execution_count": null,
      "outputs": [
        {
          "output_type": "execute_result",
          "data": {
            "text/html": [
              "<div>\n",
              "<style scoped>\n",
              "    .dataframe tbody tr th:only-of-type {\n",
              "        vertical-align: middle;\n",
              "    }\n",
              "\n",
              "    .dataframe tbody tr th {\n",
              "        vertical-align: top;\n",
              "    }\n",
              "\n",
              "    .dataframe thead th {\n",
              "        text-align: right;\n",
              "    }\n",
              "</style>\n",
              "<table border=\"1\" class=\"dataframe\">\n",
              "  <thead>\n",
              "    <tr style=\"text-align: right;\">\n",
              "      <th></th>\n",
              "      <th>paper_id</th>\n",
              "    </tr>\n",
              "    <tr>\n",
              "      <th>Unnamed: 0</th>\n",
              "      <th></th>\n",
              "    </tr>\n",
              "  </thead>\n",
              "  <tbody>\n",
              "    <tr>\n",
              "      <th>respiratory syncytial virus rsv is an important pathogen of the human respiratory tract borchers et al 2013  rsv infection results in viral bronchiolitis in around 30 of infants who become infected and it can result in lifethreatening severe bronchiolitis and viral pneumonia smyth and openshaw 2006  rsv causes significant mortality in the developing world resulting in an estimated 200000 annual deaths in young children globally in addition to major morbidity 338 million episodes worldwide annually nair et al 2010  besides rsv is a leading cause of morbidity and mortality in elderly and immunocompromised individuals kwon et al 2017</th>\n",
              "      <td>33d14ff5ca29615978c7925403da22600922f9b4</td>\n",
              "    </tr>\n",
              "    <tr>\n",
              "      <th>despite the prevalence of rsv bronchiolitis there is no vaccine available and apart from supportive measures there is no specific effective treatment since routine use of bronchodilators or antiviral ribavirin has been proven to be of no significant benefit tregoning and schwarze 2010 turner et al 2014  therefore a clearer understanding of host defense factors that contribute to effective protection against rsv infection and disease is urgently needed and could provide substantial help to the development of novel therapeutic strategies</th>\n",
              "      <td>33d14ff5ca29615978c7925403da22600922f9b4</td>\n",
              "    </tr>\n",
              "    <tr>\n",
              "      <th>during the early course of most viral infections antiviral immunity is induced through pattern recognition receptors such as tolllike receptors tlr which stimulate the innate immune response tlr can trigger cytokine secretion dendritic cell maturation and antigen presentation which in turn can enhance the adaptive immune response uematsu and akira 2006  because of this ability to induce innate and adaptive responses tlr agonists have been explored as antiviral therapeutic agents tlr3 tlr4 tlr7 tlr8 and tlr9 agonists have been successfully applied to nonhuman primate models of dengue virus and hepatitis b virus hbv and in murine models for influenza and herpes simplex virus hsv boivin et al 2008 zhang et al 2009 boukhvalova et al 2010 sariol et al 2011 shinya et al 2011 tuvim et al 2012 lanford et al 2013 lucifora et al 2018 to et al 2019  particularly in the mouse model of rsv prophylactic treatment with a tlr3 agonist not only reduces viral replication in the lungs but also results in an amelioration of the clinical illness and a reduction in lung inflammation guerreroplata et al 2005</th>\n",
              "      <td>33d14ff5ca29615978c7925403da22600922f9b4</td>\n",
              "    </tr>\n",
              "    <tr>\n",
              "      <th>in order to provide further insight into the potential of tlr agonists to induce antiviral and immunomodulatory activities in rsv infections the aim of the present study was to test the antirsv activity of different tlr agonists in epithelial cells moreover we extended the testing for imiquimod tlr7 agonist in order to analyze its antiviral mode of action against rsv in vitro as well as its effect on the production of different cytokines in rsvinfected epithelial and macrophages finally we studied the activity of imiquimod against rsv infection in a murine model of pulmonary infection</th>\n",
              "      <td>33d14ff5ca29615978c7925403da22600922f9b4</td>\n",
              "    </tr>\n",
              "    <tr>\n",
              "      <th>lps tlr4 ligand from escherichia coli serotype 055b5 n62phenylisopropyl adenosine rpia dibutyryl camp dbcamp and forskolin were obtained from sigma</th>\n",
              "      <td>33d14ff5ca29615978c7925403da22600922f9b4</td>\n",
              "    </tr>\n",
              "  </tbody>\n",
              "</table>\n",
              "</div>"
            ],
            "text/plain": [
              "                                                                                    paper_id\n",
              "Unnamed: 0                                                                                  \n",
              "respiratory syncytial virus rsv is an important...  33d14ff5ca29615978c7925403da22600922f9b4\n",
              "despite the prevalence of rsv bronchiolitis the...  33d14ff5ca29615978c7925403da22600922f9b4\n",
              "during the early course of most viral infection...  33d14ff5ca29615978c7925403da22600922f9b4\n",
              "in order to provide further insight into the po...  33d14ff5ca29615978c7925403da22600922f9b4\n",
              "lps tlr4 ligand from escherichia coli serotype ...  33d14ff5ca29615978c7925403da22600922f9b4"
            ]
          },
          "metadata": {
            "tags": []
          },
          "execution_count": 6
        }
      ]
    },
    {
      "cell_type": "code",
      "metadata": {
        "id": "hr-ki05GKjza",
        "colab_type": "code",
        "colab": {
          "base_uri": "https://localhost:8080/",
          "height": 34
        },
        "outputId": "594d107a-7b3d-4208-b919-428ebc7dc9eb"
      },
      "source": [
        "df_sentences = df_sentences['paper_id'].to_dict() # the body_text are the keys and the paper_id are the values\n",
        "df_sentences_list = list(df_sentences.keys()) # just creating a list of keys\n",
        "len(df_sentences_list)"
      ],
      "execution_count": null,
      "outputs": [
        {
          "output_type": "execute_result",
          "data": {
            "text/plain": [
              "95335"
            ]
          },
          "metadata": {
            "tags": []
          },
          "execution_count": 7
        }
      ]
    },
    {
      "cell_type": "code",
      "metadata": {
        "id": "im44YP7sKjxB",
        "colab_type": "code",
        "colab": {}
      },
      "source": [
        "df_sentences_list = [str(x) for x in df_sentences_list]"
      ],
      "execution_count": null,
      "outputs": []
    },
    {
      "cell_type": "code",
      "metadata": {
        "id": "dw7S0slmmJjP",
        "colab_type": "code",
        "colab": {
          "base_uri": "https://localhost:8080/",
          "height": 964
        },
        "outputId": "59a94ec6-eecb-4a8c-9748-5a48cba694b9"
      },
      "source": [
        "df.head()"
      ],
      "execution_count": null,
      "outputs": [
        {
          "output_type": "execute_result",
          "data": {
            "text/html": [
              "<div>\n",
              "<style scoped>\n",
              "    .dataframe tbody tr th:only-of-type {\n",
              "        vertical-align: middle;\n",
              "    }\n",
              "\n",
              "    .dataframe tbody tr th {\n",
              "        vertical-align: top;\n",
              "    }\n",
              "\n",
              "    .dataframe thead th {\n",
              "        text-align: right;\n",
              "    }\n",
              "</style>\n",
              "<table border=\"1\" class=\"dataframe\">\n",
              "  <thead>\n",
              "    <tr style=\"text-align: right;\">\n",
              "      <th></th>\n",
              "      <th>paper_id</th>\n",
              "      <th>title</th>\n",
              "      <th>abstract</th>\n",
              "      <th>abstract_summary</th>\n",
              "    </tr>\n",
              "    <tr>\n",
              "      <th>Unnamed: 0</th>\n",
              "      <th></th>\n",
              "      <th></th>\n",
              "      <th></th>\n",
              "      <th></th>\n",
              "    </tr>\n",
              "  </thead>\n",
              "  <tbody>\n",
              "    <tr>\n",
              "      <th>respiratory syncytial virus rsv is an important pathogen of the human respiratory tract borchers et al 2013  rsv infection results in viral bronchiolitis in around 30 of infants who become infected and it can result in lifethreatening severe bronchiolitis and viral pneumonia smyth and openshaw 2006  rsv causes significant mortality in the developing world resulting in an estimated 200000 annual deaths in young children globally in addition to major morbidity 338 million episodes worldwide annually nair et al 2010  besides rsv is a leading cause of morbidity and mortality in elderly and immunocompromised individuals kwon et al 2017</th>\n",
              "      <td>33d14ff5ca29615978c7925403da22600922f9b4</td>\n",
              "      <td>Imiquimod suppresses respiratory syncytial&lt;br...</td>\n",
              "      <td>abstract respiratory syncytial virus rsv is a ...</td>\n",
              "      <td>Abstract Respiratory syncytial virus (RSV) is...</td>\n",
              "    </tr>\n",
              "    <tr>\n",
              "      <th>despite the prevalence of rsv bronchiolitis there is no vaccine available and apart from supportive measures there is no specific effective treatment since routine use of bronchodilators or antiviral ribavirin has been proven to be of no significant benefit tregoning and schwarze 2010 turner et al 2014  therefore a clearer understanding of host defense factors that contribute to effective protection against rsv infection and disease is urgently needed and could provide substantial help to the development of novel therapeutic strategies</th>\n",
              "      <td>33d14ff5ca29615978c7925403da22600922f9b4</td>\n",
              "      <td>Imiquimod suppresses respiratory syncytial&lt;br...</td>\n",
              "      <td>abstract respiratory syncytial virus rsv is a ...</td>\n",
              "      <td>Abstract Respiratory syncytial virus (RSV) is...</td>\n",
              "    </tr>\n",
              "    <tr>\n",
              "      <th>during the early course of most viral infections antiviral immunity is induced through pattern recognition receptors such as tolllike receptors tlr which stimulate the innate immune response tlr can trigger cytokine secretion dendritic cell maturation and antigen presentation which in turn can enhance the adaptive immune response uematsu and akira 2006  because of this ability to induce innate and adaptive responses tlr agonists have been explored as antiviral therapeutic agents tlr3 tlr4 tlr7 tlr8 and tlr9 agonists have been successfully applied to nonhuman primate models of dengue virus and hepatitis b virus hbv and in murine models for influenza and herpes simplex virus hsv boivin et al 2008 zhang et al 2009 boukhvalova et al 2010 sariol et al 2011 shinya et al 2011 tuvim et al 2012 lanford et al 2013 lucifora et al 2018 to et al 2019  particularly in the mouse model of rsv prophylactic treatment with a tlr3 agonist not only reduces viral replication in the lungs but also results in an amelioration of the clinical illness and a reduction in lung inflammation guerreroplata et al 2005</th>\n",
              "      <td>33d14ff5ca29615978c7925403da22600922f9b4</td>\n",
              "      <td>Imiquimod suppresses respiratory syncytial&lt;br...</td>\n",
              "      <td>abstract respiratory syncytial virus rsv is a ...</td>\n",
              "      <td>Abstract Respiratory syncytial virus (RSV) is...</td>\n",
              "    </tr>\n",
              "    <tr>\n",
              "      <th>in order to provide further insight into the potential of tlr agonists to induce antiviral and immunomodulatory activities in rsv infections the aim of the present study was to test the antirsv activity of different tlr agonists in epithelial cells moreover we extended the testing for imiquimod tlr7 agonist in order to analyze its antiviral mode of action against rsv in vitro as well as its effect on the production of different cytokines in rsvinfected epithelial and macrophages finally we studied the activity of imiquimod against rsv infection in a murine model of pulmonary infection</th>\n",
              "      <td>33d14ff5ca29615978c7925403da22600922f9b4</td>\n",
              "      <td>Imiquimod suppresses respiratory syncytial&lt;br...</td>\n",
              "      <td>abstract respiratory syncytial virus rsv is a ...</td>\n",
              "      <td>Abstract Respiratory syncytial virus (RSV) is...</td>\n",
              "    </tr>\n",
              "    <tr>\n",
              "      <th>lps tlr4 ligand from escherichia coli serotype 055b5 n62phenylisopropyl adenosine rpia dibutyryl camp dbcamp and forskolin were obtained from sigma</th>\n",
              "      <td>33d14ff5ca29615978c7925403da22600922f9b4</td>\n",
              "      <td>Imiquimod suppresses respiratory syncytial&lt;br...</td>\n",
              "      <td>abstract respiratory syncytial virus rsv is a ...</td>\n",
              "      <td>Abstract Respiratory syncytial virus (RSV) is...</td>\n",
              "    </tr>\n",
              "  </tbody>\n",
              "</table>\n",
              "</div>"
            ],
            "text/plain": [
              "                                                                                    paper_id  ...                                   abstract_summary\n",
              "Unnamed: 0                                                                                    ...                                                   \n",
              "respiratory syncytial virus rsv is an important...  33d14ff5ca29615978c7925403da22600922f9b4  ...   Abstract Respiratory syncytial virus (RSV) is...\n",
              "despite the prevalence of rsv bronchiolitis the...  33d14ff5ca29615978c7925403da22600922f9b4  ...   Abstract Respiratory syncytial virus (RSV) is...\n",
              "during the early course of most viral infection...  33d14ff5ca29615978c7925403da22600922f9b4  ...   Abstract Respiratory syncytial virus (RSV) is...\n",
              "in order to provide further insight into the po...  33d14ff5ca29615978c7925403da22600922f9b4  ...   Abstract Respiratory syncytial virus (RSV) is...\n",
              "lps tlr4 ligand from escherichia coli serotype ...  33d14ff5ca29615978c7925403da22600922f9b4  ...   Abstract Respiratory syncytial virus (RSV) is...\n",
              "\n",
              "[5 rows x 4 columns]"
            ]
          },
          "metadata": {
            "tags": []
          },
          "execution_count": 9
        }
      ]
    },
    {
      "cell_type": "markdown",
      "metadata": {
        "id": "SppLvBpjKpNt",
        "colab_type": "text"
      },
      "source": [
        "##  bert"
      ]
    },
    {
      "cell_type": "code",
      "metadata": {
        "id": "vYLgyf6OKzTE",
        "colab_type": "code",
        "colab": {
          "base_uri": "https://localhost:8080/",
          "height": 66,
          "referenced_widgets": [
            "39ff9ab2d20d4ce9b51166e7361dbba7",
            "dce8564192e24abb97254ae702e02a2a",
            "f89e1443abda42689d17ac8f3f646f4f",
            "c70d9f76f82a456d9118bbfbc3193369",
            "374933043c4048cfb82ce075cf7711e7",
            "895824862bee42a48fd9a1f7be7e4d5a",
            "30208b3fca484735bdd121eb41ebbe8e",
            "e3c37be04d014af793f4679a3bcf10ba"
          ]
        },
        "outputId": "f69b267e-0adc-45c0-c479-53f3ea38fd50"
      },
      "source": [
        "from sentence_transformers import SentenceTransformer\n",
        "import scipy.spatial\n",
        "embedder = SentenceTransformer('bert-base-nli-mean-tokens')\n",
        "\n",
        "# Query sentences:\n",
        "queries = ['What has been published about medical care?',\n",
        "           'Knowledge of the frequency, manifestations, and course of extrapulmonary manifestations of COVID-19, including, but not limited to, possible cardiomyopathy and cardiac arrest',\n",
        "           'Use of AI in real-time health care delivery to evaluate interventions, risk factors, and outcomes in a way that could not be done manually',\n",
        "           'Resources to support skilled nursing facilities and long term care facilities.',\n",
        "           'Mobilization of surge medical staff to address shortages in overwhelmed communities .',\n",
        "           'Age-adjusted mortality data for Acute Respiratory Distress Syndrome (ARDS) with/without other organ failure – particularly for viral etiologies .']\n",
        "query_embeddings = embedder.encode(queries,show_progress_bar=True)\n",
        "\n",
        "\n",
        "## corpus embedding \n",
        "\n",
        "# corpus = df_sentences_list\n",
        "# corpus_embeddings = embedder.encode(corpus, show_progress_bar=True)\n",
        "# Load pickle file\n",
        "from google.colab import drive\n",
        "drive.mount('drive')\n",
        "dr = \"drive/My Drive/datasets/\"\n",
        "with open(dr + \"corpus_embeddings.pkl\" , \"rb\") as file_:\n",
        "  corpus_embeddings = pkl.load(file_)"
      ],
      "execution_count": null,
      "outputs": [
        {
          "output_type": "display_data",
          "data": {
            "application/vnd.jupyter.widget-view+json": {
              "model_id": "39ff9ab2d20d4ce9b51166e7361dbba7",
              "version_minor": 0,
              "version_major": 2
            },
            "text/plain": [
              "HBox(children=(FloatProgress(value=0.0, description='Batches', max=1.0, style=ProgressStyle(description_width=…"
            ]
          },
          "metadata": {
            "tags": []
          }
        },
        {
          "output_type": "stream",
          "text": [
            "\n"
          ],
          "name": "stdout"
        }
      ]
    },
    {
      "cell_type": "code",
      "metadata": {
        "id": "5sSGdLkhMYLY",
        "colab_type": "code",
        "colab": {
          "base_uri": "https://localhost:8080/",
          "height": 1000
        },
        "outputId": "65ded2e4-87ae-40ef-8544-694ac39facb8"
      },
      "source": [
        "# find the closest 5 sentences from the corpus\n",
        "\n",
        "closest_n = 5\n",
        "print(\"\\n Top 5 similar senntences in corpus:\")\n",
        "for query, query_embedding in zip(queries, query_embeddings):\n",
        "    distances = scipy.spatial.distance.cdist([query_embedding], corpus_embeddings, \"cosine\")[0]\n",
        "    # print(distances)\n",
        "\n",
        "    results = zip(range(len(distances)), distances)\n",
        "    results = sorted(results, key=lambda x: x[1])\n",
        "    print(\"\\n\\n=========================================================\")\n",
        "    print(\"==========================Query==============================\")\n",
        "    print(\"===\",query,\"=====\")\n",
        "    print(\"=========================================================\")\n",
        "    i = 1\n",
        "    for idx, distance in results[0:closest_n]:\n",
        "        print(i, \". Score :   \", \"(Score : %.4f)\"%(1-distance), \"\\n\")\n",
        "        # print(\"Paragraph :   \", df['']corpus[idx].strip(), \"\\n\")\n",
        "        row_dict = df.loc[df.index== corpus[idx]].to_dict()\n",
        "        print(\"paper_id:  \" , row_dict[\"paper_id\"][corpus[idx]] , \"\\n\")\n",
        "        print(\"Title:  \" , row_dict[\"title\"][corpus[idx]] , \"\\n\")\n",
        "        print(\"Abstract:  \" , row_dict[\"abstract\"][corpus[idx]] , \"\\n\")\n",
        "        print(\"Abstract_Summary:  \" , row_dict[\"abstract_summary\"][corpus[idx]] , \"\\n\")\n",
        "        print(\"-------------------------------------------\")\n",
        "        i += 1"
      ],
      "execution_count": null,
      "outputs": [
        {
          "output_type": "stream",
          "text": [
            "\n",
            " Top 5 similar senntences in corpus:\n",
            "\n",
            "\n",
            "=========================================================\n",
            "==========================Query==============================\n",
            "=== What has been published about medical care? =====\n",
            "=========================================================\n",
            "1 . Score :    (Score : 0.7647) \n",
            "\n",
            "paper_id:   795b422b30014b724a0b505606cf02272ac0abff \n",
            "\n",
            "Title:    A Phase 3 Open-label, Randomized, Controlled<br>Study to Evaluate the Efficacy and Safety of<br>Intravenously Administered Ravulizumab Compared with Best<br>Supportive Care in Patients with COVID-19 Severe<br>Pneumonia, Acute Lung Injury, or Acute Respiratory<br>Distress Syndrome: A structured summary of a study<br>protocol for a randomised controlled trial \n",
            "\n",
            "Abstract:   objectives primary objective  to evaluate the effect of ravulizumab a longacting complement c5 inhibitor plus best supportive care bsc compared with bsc alone on the survival of patients with covid19 secondary objectives  number of days free of mechanical ventilation at day 29  duration of intensive care unit stay at day 29  change from baseline in sequential organ failure assessment sofa score at day 29  change from baseline in peripheral capillary oxygen saturation fraction of inspired oxygen spo2 fio2 at day 29  duration of hospitalization at day 29  survival based on allcause mortality at day 60 and day 90 safety  incidence of treatmentemergent adverse events and treatmentemergent serious adverse events pkpdimmunogenicity  change in serum ravulizumab concentrations over time  change in serum free and total c5 concentrations over time  incidence and titer of antialxn1210 antibodies biomarkers  change in absolute level of soluble biomarkers in blood associated with complement activation inflammatory processes and hypercoagulable states over time exploratory  incidence of progression to renal failure requiring dialysis at day 29  time to clinical improvement based on a modified 6point ordinal scale over 29 days  sf12 physical component summary pcs and mental component summary mcs scores at day 29 or discharge day 60 and day 90  euroqol 5dimension 5level eq5d5l scores at day 29 or discharge day 60 and day 90 trial design this is a multicenter phase 3 openlabel randomized controlled study the study is being conducted in acute care hospital settings in the united states united kingdom spain france germany and japan participants male or female patients at least 18 years of age weighing  40 kg admitted to a designated hospital facility for treatment will be screened for eligibility in this study key inclusion criteria  confirmed diagnosis of sarscov2 infection eg via polymerase chain reaction [pcr] andor antibody test presenting as severe covid19 requiring hospitalization  severe pneumonia acute lung injury or ards confirmed by computed tomography ct or xray at screening or within the 3 days prior to screening as part of the patients routine clinical care  respiratory distress requiring mechanical ventilation which can be either invasive requiring endotracheal intubation or noninvasive with continuous positive airway pressure [cpap] or bilevel positive airway pressure [bipap] key exclusion criteria  patient is not expected to survive for more than 24 hours  patient is on invasive mechanical ventilation with intubation for more than 48 hours prior to screening  severe preexisting cardiac disease ie nyha class 3 or class 4 acute coronary syndrome or persistent ventricular tachyarrhythmias  patient has an unresolved neisseria meningitidis infection excluded medications and therapies  current treatment with a complement inhibitor  intravenous immunoglobulin ivig within 4 weeks prior to randomization on day 1 excluded priorconcurrent clinical study experience  treatment with investigational therapy in a clinical study within 30 days before randomization or within 5 halflives of that investigational therapy whichever is greater  exceptions a investigational therapies will be allowed if received as part of best supportive care through an expanded access protocol or emergency approval for the treatment of covid19 b investigational antiviral therapies such as remdesivir will be allowed even if received as part of a clinical study intervention and comparator the study consists of a screening period of up to 3 days a primary evaluation period of 4 weeks a final assessment at day 29 and a followup period of 8 weeks for patients randomized to ravulizumab plus bsc a weightbased dose of ravulizumab 40 to  60 kg2400 mg 60 to  100 kg2700 mg  100 kg3000 mg will be administered on day 1 on day 5 and day 10 additional doses of 600 mg 40 to 60 kg or 900 mg 60 kg ravulizumab will be administered and on day 15 patients will receive 900 mg ravulizumab there is no active or placebo comparator in this openlabel clinical trial the total duration of each patients participation is anticipated to be approximately 3 months main outcomes the primary efficacy outcome of this study is survival based on allcause mortality at day 29 randomisation patients will be randomized in a 21 ratio ravulizumab plus bscbsc alone randomization will be stratified by intubated or not intubated on day 1 computergenerated randomization lists will be prepared by a third party under the direction of the sponsor investigators or designees will enrol patients and then obtain randomization codes using an interactive voiceweb response system the block size will be kept concealed so that investigators cannot select patients for a particular treatment assignment blinding masking this is an openlabel study numbers to be randomised sample size approximately 270 patients will be randomly assigned in a 21 ratio to ravulizumab plus bsc n180 or bsc alone n90 trial status protocol number alxn1210cov305 original protocol 09 apr 2020 protocol amendment 1 global 13 apr 2020 protocol amendment 2 global 17 apr 2020 protocol amendment 3 global 09 jun 2020 recruitment is currently ongoing recruitment was initiated on 11 may 2020 we expect recruitment to be completed by 30 nov 2020 trial registration clinicaltrialsgov protocol registry number nct04369469 first posted 30 apr 2020 eu clinical trials register eudract number httpswwwclinicaltrialsregistereuctrsearchsearchqueryalxn1210cov305 start date 07 may 2020 full protocol the full redacted protocol is attached as an additional file accessible from the trials website additional file 1 in the interest in expediting dissemination of this material the familiar formatting has been eliminated this letter serves as a summary of the key elements of the full protocol \n",
            "\n",
            "Abstract_Summary:    OBJECTIVES: Primary Objective • To evaluate<br>the effect of ravulizumab, a long-acting<br>complement (C5) inhibitor plus best supportive care (BSC)<br>compared with BSC alone on the survival of patients with<br>COVID-19. Secondary Objectives • Number of days free of<br>mechanical ventilation at Day 29 • Duration of intensive<br>care unit stay at Day 29 • Change from baseline in<br>Sequential Organ Failure Assessment (SOFA) score at Day 29<br>• Change from baseline in peripheral capillary<br>oxygen saturation/ fraction of inspired oxygen (SpO2<br>/FiO2) at Day 29 • Duration of hospitalization at Day 29<br>• Survival (based on all-cause mortality) at... \n",
            "\n",
            "-------------------------------------------\n",
            "2 . Score :    (Score : 0.7506) \n",
            "\n",
            "paper_id:   982458306a8c4efc11d5591348b4e0f978b29941 \n",
            "\n",
            "Title:    Plague as a Biological Weapon \n",
            "\n",
            "Abstract:   three welldocumented plague pandemics have occurred in the past two millennia resulting in more than 200 million deaths and great social and economic chaos perry and fetherston 1997 pollitzer 1954 the justinian pandemic arose in northern africa in the mid6th century and by the 7th century had spread throughout the mediterranean and neareastern regionsseverely impacting both the roman and byzantine empires the second pandemic the black death or great pestilence originated in central asia was carried to sicily in 1347 via ships from the crimea and rapidly swept through medieval europe by 1352 it had killed 30 or more of afflicted populations slowly playing itself out in successive epidemics including the great plague of london in 1665 perry and fetherston 1997 the third modern pandemic began in southwestern china in the mid19th struck hong kong in 1894 and was soon carried by ratinfested steamships to port cities on all inhabited continents including several in the united states us link 1955 pollitzer 1954 by 1930 the third pandemic had caused more than 26 million cases and 12 million deaths plague in these three pandemics was predominantly the bubonic form emanating from yersinia pestisinfected rats and fleas although terrifying outbreaks of the more virulent persontoperson spreading pneumonic form were recorded during the course of each the explosive contagiousness and severity of pneumonic plague was most completely documented in manchurian epidemics in the early 20th century which involved tens of thousands of cases virtually all of them fatal wu 1926 \n",
            "\n",
            "Abstract_Summary:    Three well-documented plague pandemics have<br>occurred in the past two millennia, resulting in more<br>than 200 million deaths and great social and<br>economic chaos (Perry and Fetherston, 1997; Pollitzer,<br>1954). The Justinian pandemic arose in northern<br>Africa in the mid-6th century, and by the 7th century<br>had spread throughout the Mediterranean and<br>near-eastern regions—severely impacting both the Roman and<br>Byzantine empires. The second pandemic, the Black Death<br>or great pestilence, originated in Central Asia,<br>was carried to Sicily in 1347 via ships from the<br>Crimea, and rapidly swept through medieval Europe. By<br>1352, it had killed 30% or more of... \n",
            "\n",
            "-------------------------------------------\n",
            "3 . Score :    (Score : 0.7381) \n",
            "\n",
            "paper_id:   ac5278c68f7ec8d6972c44f37493a060b3abb040 \n",
            "\n",
            "Title:    Pan-human coronavirus and human bocavirus<br>SYBR Green and TaqMan PCR assays; use in studying<br>influenza A viruses co-infection and risk of<br>hospitalization \n",
            "\n",
            "Abstract:   purpose influenza a viruses human coronaviruses hcov and human bocavirus hbov are emerging respiratory viruses this study investigated the association between influenza a viruses coinfection with hbov and hcov and severity and the sensitivity of a realtime polymerase chain reaction rtpcr assay for identification of 15 coronaviruses methodology published sequences for the 15 human coronaviruses were used to design a consensus pcr targeting the replicase open reading frame 1b a previously published pcr targeting the ns1 gene of all known human bocavirus strains was also utilized a series of 217 samples from patients aged 377 sd  304] with seasonal influenza a viruses seasflua identified between 062011 and 062012 in nw england were tested for hcov and hbov using rtpcr association between coinfection and disease outcome was assessed using logistic regression results the limit of detection of hcov rtpcr assay was 2 copiesl of human coronavirus rna template a sensitivity comparable to a previously published sybr green assay for human coronaviruses a total of 12 hcov and 17 hbov were identified in the 217 influenza a positive samples a higher proportion 615  813 of seasfluahbov coinfections were identified in patients that were admitted either to a general ward or the intensive care unit compared to 443  66149 of single seasflu a virus infections or 25 95  ci 067934 p  017 in a stratified analysis there was a trend towards higher association between flua hcov and hbov with increasing age especially in patients aged 2445 years and 65 year old conclusion our hcov rtpcr protocol appeared to be of adequate analytical sensitivity for diagnosis more and larger studies are needed to confirm the role of hcov hbov in causing severe disease when they coinfect with influenza a viruses \n",
            "\n",
            "Abstract_Summary:    PURPOSE: Influenza A viruses, human<br>coronaviruses (hCoV) and human bocavirus (hBoV) are emerging<br>respiratory viruses. This study investigated the<br>association between influenza A viruses co-infection with<br>hBoV and hCoV and severity and the sensitivity of a<br>real-time polymerase chain reaction (RT-PCR) assay for<br>identification of 15 coronaviruses. METHODOLOGY: Published<br>sequences for the 15 human coronaviruses were used to<br>design a consensus PCR targeting the replicase open<br>reading frame 1b. A previously published PCR targeting<br>the NS1 Gene of all known human bocavirus strains<br>was also utilized. A series of 217 samples from<br>patients aged 37.7 (SD ± 30.4)] with seasonal... \n",
            "\n",
            "-------------------------------------------\n",
            "4 . Score :    (Score : 0.7360) \n",
            "\n",
            "paper_id:   c445a1425736c454dd61d836d8f657dda8b1b104 \n",
            "\n",
            "Title:    Is patient isolation the single most important<br>measure to prevent the spread of multidrug-resistant<br>pathogens? \n",
            "\n",
            "Abstract:   isolation or cohorting of infected patients is an old concept its purpose is to prevent the transmission of microorganisms from infected or colonized patients to other patients hospital visitors and health care workers who may subsequently transmit them to other patients or become infected or colonized themselves because the process of isolating patients is expensive timeconsuming often uncomfortable for patients and may impede care it should be implemented only when necessary conversely failure to isolate a patient with multidrugresistant microorganisms may lead to adverse outcomes and may ultimately be expensive when one considers the direct costs of an outbreak investigation and the indirect costs of lost productivity in this review we argue that contact precautions are essential to control the spread of epidemic and endemic multidrugresistant microorganisms and discuss limitations of some available data \n",
            "\n",
            "Abstract_Summary:    Isolation or cohorting of infected patients is<br>an old concept. Its purpose is to prevent the<br>transmission of microorganisms from infected or colonized<br>patients to other patients, hospital visitors, and<br>health care workers, who may subsequently transmit<br>them to other patients or become infected or<br>colonized themselves. Because the process of isolating<br>patients is expensive, time-consuming, often<br>uncomfortable for patients and may impede care, it should be<br>implemented only when necessary. Conversely, failure to<br>isolate a patient with multidrug-resistant<br>microorganisms may lead to adverse outcomes, and may<br>ultimately be expensive when one considers the direct<br>costs of an outbreak investigation... \n",
            "\n",
            "-------------------------------------------\n",
            "5 . Score :    (Score : 0.7339) \n",
            "\n",
            "paper_id:   e598641d81a2965e2c99ed583b3613eccedebf5c \n",
            "\n",
            "Title:    New Emerging Risks \n",
            "\n",
            "Abstract:   in earlier chapters mention has been made to some new emerging risks in the changing world of work here we give a short list of new risks section 51 combined with a description of strategies and methods on how to deal with those risks within the risk management and risk governance process focussing on the precautionary principle section 52 \n",
            "\n",
            "Abstract_Summary:    In earlier chapters, mention has been made to<br>some new emerging risks in the changing world of<br>work. Here we give a short list of new risks (Section<br>5.1), combined with a description of strategies and<br>methods on how to deal with those risks within the Risk<br>Management and Risk Governance process, focussing on the<br>“precautionary principle” (Section 5.2). \n",
            "\n",
            "-------------------------------------------\n",
            "\n",
            "\n",
            "=========================================================\n",
            "==========================Query==============================\n",
            "=== Knowledge of the frequency, manifestations, and course of extrapulmonary manifestations of COVID-19, including, but not limited to, possible cardiomyopathy and cardiac arrest =====\n",
            "=========================================================\n",
            "1 . Score :    (Score : 0.8097) \n",
            "\n",
            "paper_id:   91dcd846c93b179b29b98ec8ffca12223d3ab60d \n",
            "\n",
            "Title:    Alveolar Hemorrhage \n",
            "\n",
            "Abstract:   diffuse alveolar hemorrhage dah is a clinical syndrome characterized by generalized intraalveolar bleeding originating from the pulmonary microcirculation the finding of dah carries an extended differential diagnosis and may be associated with a number of histopathologic patterns the prompt recognition and diagnosis of dah is of critical importance to the practicing clinician as accurate diagnosis and prompt initiation of therapy may dramatically improve patient outcomes this chapter reviews the diagnosis and management of diffuse alveolar hemorrhage \n",
            "\n",
            "Abstract_Summary:    Diffuse alveolar hemorrhage (DAH) is a<br>clinical syndrome characterized by generalized<br>intra-alveolar bleeding originating from the pulmonary<br>microcirculation. The finding of DAH carries an extended<br>differential diagnosis and may be associated with a number of<br>histopathologic patterns. The prompt recognition and<br>diagnosis of DAH is of critical importance to the<br>practicing clinician as accurate diagnosis and prompt<br>initiation of therapy may dramatically improve patient<br>outcomes. This chapter reviews the diagnosis and<br>management of diffuse alveolar hemorrhage. \n",
            "\n",
            "-------------------------------------------\n",
            "2 . Score :    (Score : 0.8005) \n",
            "\n",
            "paper_id:   4873d5837e8bcc9c85f41aab6b817b5d6b584d05 \n",
            "\n",
            "Title:    The role of cardiovascular imaging for<br>myocardial injury in hospitalized COVID-19 patients \n",
            "\n",
            "Abstract:   recent eacvi recommendations described the importance of limiting cardiovascular imaging during the covid19 pandemic in order to reduce virus transmission protect healthcare professionals from contamination and reduce consumption of personal protective equipment however an elevated troponin remains a frequent request for cardiac imaging in covid19 patients partly because it signifies cardiac injury due to a variety of causes and partly because it is known to convey a worse prognosis the present paper aims to provide guidance to clinicians regarding the appropriateness of cardiac imaging in the context of troponin elevation and myocardial injury how best to decipher the mechanism of myocardial injury and how to guide patient management \n",
            "\n",
            "Abstract_Summary:    Recent EACVI recommendations described the<br>importance of limiting cardiovascular imaging during the<br>COVID-19 pandemic in order to reduce virus<br>transmission, protect healthcare professionals from<br>contamination, and reduce consumption of personal protective<br>equipment. However, an elevated troponin remains a<br>frequent request for cardiac imaging in COVID-19<br>patients, partly because it signifies cardiac injury due<br>to a variety of causes and partly because it is<br>known to convey a worse prognosis. The present paper<br>aims to provide guidance to clinicians regarding<br>the appropriateness of cardiac imaging in the<br>context of troponin elevation and myocardial injury,<br>how best to decipher the mechanism of... \n",
            "\n",
            "-------------------------------------------\n",
            "3 . Score :    (Score : 0.7963) \n",
            "\n",
            "paper_id:   3e785df0ad126e5579c7da7d73dc066e47f3dc3f \n",
            "\n",
            "Title:    Event-Driven ECG Sensor in Healthcare Devices<br>for Data Transfer Optimization \n",
            "\n",
            "Abstract:   the longterm monitoring of cardiovascular signs requires a wearable and connected electrocardiogram ecg healthcare device it increases users comfort and diagnosis quality of chronic cardiac andor highrisk patients this paper covers the enormous data to be transmitted from the ecg device to the physicians namely the cardiologists control unit existent ecg devices uniformly sample analog signals and convert them to digital samples which are compressed before data transmission however eventdriven sampling simultaneously compresses and samples therefore this paper quantitatively compares successive approximation register analogtodigital converter sar adc with discrete wavelet transform dwt compression and levelcrossing analogtodigital converter lcadc evaluation metrics are the percent rootmeansquare difference [formula see text]  bit compression ratio [formula see text]  and data length in bits when a 12bit reconstruction is operated on the outputs of an 8bit lcadc with 12bit and 10khz reference counter the [formula see text] is equal to 80 for 75 of test ecg signals that is better than the 7187 [formula see text] of the 12bit 1khz sar adc with dwt compression the modeled lcadc guarantees a signal quality in terms of [formula see text] comparable to the [formula see text] of the sar adc with dwt compression the data length in bits of the lcadc is lower than the data length in bits of the sar adc with more than 14bit resolution with dwt compression for 82 of the test ecg signals however for lower resolutions to obtain lower power consumption for radiofrequency transmission a better alternative remains the sar adc with dwt compression \n",
            "\n",
            "Abstract_Summary:    The long-term monitoring of cardiovascular<br>signs requires a wearable and connected<br>electrocardiogram (ECG) healthcare device. It increases user’s<br>comfort and diagnosis quality of chronic cardiac<br>and/or high-risk patients. This paper covers the<br>enormous data to be transmitted from the ECG device to the<br>physician’s, namely the cardiologist’s, control unit.<br>Existent ECG devices uniformly sample analog signals<br>and convert them to digital samples which are<br>compressed before data transmission. However,<br>event-driven sampling simultaneously compresses and<br>samples. Therefore, this paper quantitatively<br>compares successive approximation register<br>analog-to-digital converter (SAR ADC) with discrete wavelet<br>transform (DWT) compression and level-crossing<br>analog-to-digital converter (LC-ADC). Evaluation metrics... \n",
            "\n",
            "-------------------------------------------\n",
            "4 . Score :    (Score : 0.7788) \n",
            "\n",
            "paper_id:   4f7be8727b4b6b671e79df0524bfe469f9dc8f6b \n",
            "\n",
            "Title:    Aortic thrombus in patients with severe<br>COVID-19: review of three cases \n",
            "\n",
            "Abstract:   coronavirus disease 2019 covid19 could predispose to both venous and arterial thromboembolism in an exaggerated immune response to the virus especially in severe patients even though aortic clots are a rare entity the procoagulant nature of covid19 is associated with thrombosis in atypical locations and should be considered in patients with severe abnormalities in coagulation parameters we describe a series of three cases of aortic thrombi diagnosed by computerized tomography ct angiography in patients with confirmed sarscov2 infection \n",
            "\n",
            "Abstract_Summary:    Coronavirus disease 2019 (COVID-19) could<br>predispose to both venous and arterial thromboembolism,<br>in an exaggerated immune response to the virus,<br>especially in severe patients. Even though aortic clots<br>are a rare entity, the pro-coagulant nature of<br>COVID-19 is associated with thrombosis in atypical<br>locations and should be considered in patients with<br>severe abnormalities in coagulation parameters. We<br>describe a series of three cases of aortic thrombi<br>diagnosed by computerized tomography (CT) angiography<br>in patients with confirmed SARS-CoV-2<br>infection. \n",
            "\n",
            "-------------------------------------------\n",
            "5 . Score :    (Score : 0.7782) \n",
            "\n",
            "paper_id:   879b563cbe739c7ec914ce9eef39d9a85d6d3801 \n",
            "\n",
            "Title:    Sepsis and septic shock: endothelial<br>molecular pathogenesis associated with vascular<br>microthrombotic disease \n",
            "\n",
            "Abstract:   in addition to protective immune response sepsis is characterized by destructive endothelial response of the host leading to endotheliopathy and its molecular dysfunction complement activation generates membrane attack complex mac mac causes channel formation to the cell membrane of pathogen leading to death of microorganisms in the host mac also may induce channel formation to innocent bystander endothelial cells ecs and ecs cannot be protected this provokes endotheliopathy which activates two independent molecular pathways inflammatory and microthrombotic activated inflammatory pathway promotes the release of inflammatory cytokines and triggers inflammation activated microthrombotic pathway mediates platelet activation and exocytosis of unusually large von willebrand factor multimers ulvwf from ecs and initiates microthrombogenesis excessively released ulvwf become anchored to ecs as long elongated strings and recruit activated platelets to assemble plateletulvwf complexes and form microthrombi these microthrombi strings trigger disseminated intravascular microthrombosis dit which is the underlying pathology of endotheliopathyassociated vascular microthrombotic disease eavmtd sepsisinduced endotheliopathy promotes inflammation and dit inflammation produces inflammatory response and dit orchestrates consumptive thrombocytopenia microangiopathic hemolytic anemia and multiorgan dysfunction syndrome mods systemic inflammatory response syndrome sirs is a combined phenotype of inflammation and endotheliopathyassociated eavmtd successful therapeutic design for sepsis can be achieved by counteracting the pathologic microthrombogenesis \n",
            "\n",
            "Abstract_Summary:    In addition to protective “immune response”,<br>sepsis is characterized by destructive “endothelial<br>response” of the host, leading to endotheliopathy and its<br>molecular dysfunction. Complement activation<br>generates membrane attack complex (MAC). MAC causes<br>channel formation to the cell membrane of pathogen,<br>leading to death of microorganisms. In the host, MAC<br>also may induce channel formation to innocent<br>bystander endothelial cells (ECs) and ECs cannot be<br>protected. This provokes endotheliopathy, which<br>activates two independent molecular pathways:<br>inflammatory and microthrombotic. Activated inflammatory<br>pathway promotes the release of inflammatory<br>cytokines and triggers inflammation. Activated<br>microthrombotic pathway mediates platelet activation and<br>exocytosis of unusually large... \n",
            "\n",
            "-------------------------------------------\n",
            "\n",
            "\n",
            "=========================================================\n",
            "==========================Query==============================\n",
            "=== Use of AI in real-time health care delivery to evaluate interventions, risk factors, and outcomes in a way that could not be done manually =====\n",
            "=========================================================\n",
            "1 . Score :    (Score : 0.7576) \n",
            "\n",
            "paper_id:   1691f7f33cbff2bacf20960af0bc8ab72ee531b9 \n",
            "\n",
            "Title:    Examining the pre-adoption stages of<br>healthcare IT: A case study of vital signs monitoring<br>systems \n",
            "\n",
            "Abstract:   abstract pervasive healthcare systems can reduce the costs and improve the quality of healthcare however insufficient care in managing the process before the organizational decision to adopt information technology it can result in poor outcomes with most previous research focusing on it adoption this paper develops a multistage theoretical framework for the preadoption phase of healthcare it to address this practical challenge and gap in the literature with a priori concepts identified from previous multistage models our framework was developed by analyzing two cases of the introduction of vital signs monitoring systems in hospitals to identify the important stages and influencing factors for healthcare it preadoption \n",
            "\n",
            "Abstract_Summary:    Abstract Pervasive healthcare systems can<br>reduce the costs and improve the quality of<br>healthcare. However, insufficient care in managing the<br>process before the organizational decision to adopt<br>information technology (IT) can result in poor outcomes.<br>With most previous research focusing on IT<br>adoption, this paper develops a multi-stage theoretical<br>framework for the pre-adoption phase of healthcare IT to<br>address this practical challenge and gap in the<br>literature. With a priori concepts identified from<br>previous multi-stage models, our framework was<br>developed by analyzing two cases of the introduction of<br>vital signs monitoring systems in hospitals to<br>identify the important stages and... \n",
            "\n",
            "-------------------------------------------\n",
            "2 . Score :    (Score : 0.7564) \n",
            "\n",
            "paper_id:   646484c8081b3f1bf336bae89411c2aa86885788 \n",
            "\n",
            "Title:    General Practice and Pandemic Influenza: A<br>Framework for Planning and Comparison of Plans in Five<br>Countries \n",
            "\n",
            "Abstract:   background although primary health care and in particular general practice will be at the frontline in the response to pandemic influenza there are no frameworks to guide systematic planning for this task or to appraise available plans for their relevance to general practice we aimed to develop a framework that will facilitate planning for general practice and used it to appraise pandemic plans from australia england usa new zealand and canada methodologyprincipal findings we adapted the haddon matrix to develop the framework populating its cells through a multimethod study that incorporated the peerreviewed and grey literature interviews with general practitioners practice nurses and senior decisionmakers and desktop simulation exercises we used the framework to analyse 89 publiclyavailable jurisdictional plans at similar managerial levels in the five countries the framework identifies four functional domains clinical care for influenza and other needs public health responsibilities the internal environment and the macroenvironment of general practice no plan addressed all four domains most plans either ignored or were sketchy about noninfluenza clinical needs and about the contribution of general practice to public health beyond surveillance collaborations between general practices were addressed in few plans and interrelationships with the broader health system even less frequently conclusions this is the first study to provide a framework to guide general practice planning for pandemic influenza the framework helped identify critical shortcomings in available plans engaging general practice effectively in planning is challenging particularly where governance structures for primary health care are weak we identify implications for practice and for research \n",
            "\n",
            "Abstract_Summary:    BACKGROUND: Although primary health care, and<br>in particular, general practice will be at the<br>frontline in the response to pandemic influenza, there<br>are no frameworks to guide systematic planning for<br>this task or to appraise available plans for their<br>relevance to general practice. We aimed to develop a<br>framework that will facilitate planning for general<br>practice, and used it to appraise pandemic plans from<br>Australia, England, USA, New Zealand and Canada.<br>METHODOLOGY/PRINCIPAL FINDINGS: We adapted the Haddon matrix to<br>develop the framework, populating its cells through a<br>multi-method study that incorporated the peer-reviewed and<br>grey literature, interviews with general<br>practitioners,... \n",
            "\n",
            "-------------------------------------------\n",
            "3 . Score :    (Score : 0.7335) \n",
            "\n",
            "paper_id:   16cc0c9b0ff0c921df43dae98f9f9bc36af518a7 \n",
            "\n",
            "Title:    Institutional Effects on National Health<br>Insurance Digital Platform Development and Use: The Case<br>of Ghana \n",
            "\n",
            "Abstract:   the purpose of this study is to understand institutional effects on digital platform development and use for national health insurance in a developing country information systems research on digital platforms for the health sector has focused more on healthcare less research exists on health insurance this study therefore addresses the research gap by focusing on digital platform for national health insurance service in a developing country the study employs qualitative interpretive case study as methodology and institutional theory as analytical lens to investigate regulative normative and culturalcognitive institutional effects on digital platform development and use for national health insurance in ghana the findings show the institutional enablers as 1 healthseeking culture 2 mobile network penetration and use and 3 appropriate laws and regulations conversely the constraints are 1 unstructured supplementary service data ussd functionality and 2 extended family system \n",
            "\n",
            "Abstract_Summary:    The purpose of this study is to understand<br>institutional effects on digital platform development and<br>use for national health insurance in a developing<br>country. Information systems research on digital<br>platforms for the health sector has focused more on<br>healthcare. Less research exists on health insurance. This<br>study, therefore, addresses the research gap by<br>focusing on digital platform for national health<br>insurance service in a developing country. The study<br>employs qualitative, interpretive case study as<br>methodology and institutional theory as analytical lens to<br>investigate regulative, normative, and<br>cultural-cognitive institutional effects on digital platform<br>development and use for national health insurance in... \n",
            "\n",
            "-------------------------------------------\n",
            "4 . Score :    (Score : 0.7315) \n",
            "\n",
            "paper_id:   646484c8081b3f1bf336bae89411c2aa86885788 \n",
            "\n",
            "Title:    General Practice and Pandemic Influenza: A<br>Framework for Planning and Comparison of Plans in Five<br>Countries \n",
            "\n",
            "Abstract:   background although primary health care and in particular general practice will be at the frontline in the response to pandemic influenza there are no frameworks to guide systematic planning for this task or to appraise available plans for their relevance to general practice we aimed to develop a framework that will facilitate planning for general practice and used it to appraise pandemic plans from australia england usa new zealand and canada methodologyprincipal findings we adapted the haddon matrix to develop the framework populating its cells through a multimethod study that incorporated the peerreviewed and grey literature interviews with general practitioners practice nurses and senior decisionmakers and desktop simulation exercises we used the framework to analyse 89 publiclyavailable jurisdictional plans at similar managerial levels in the five countries the framework identifies four functional domains clinical care for influenza and other needs public health responsibilities the internal environment and the macroenvironment of general practice no plan addressed all four domains most plans either ignored or were sketchy about noninfluenza clinical needs and about the contribution of general practice to public health beyond surveillance collaborations between general practices were addressed in few plans and interrelationships with the broader health system even less frequently conclusions this is the first study to provide a framework to guide general practice planning for pandemic influenza the framework helped identify critical shortcomings in available plans engaging general practice effectively in planning is challenging particularly where governance structures for primary health care are weak we identify implications for practice and for research \n",
            "\n",
            "Abstract_Summary:    BACKGROUND: Although primary health care, and<br>in particular, general practice will be at the<br>frontline in the response to pandemic influenza, there<br>are no frameworks to guide systematic planning for<br>this task or to appraise available plans for their<br>relevance to general practice. We aimed to develop a<br>framework that will facilitate planning for general<br>practice, and used it to appraise pandemic plans from<br>Australia, England, USA, New Zealand and Canada.<br>METHODOLOGY/PRINCIPAL FINDINGS: We adapted the Haddon matrix to<br>develop the framework, populating its cells through a<br>multi-method study that incorporated the peer-reviewed and<br>grey literature, interviews with general<br>practitioners,... \n",
            "\n",
            "-------------------------------------------\n",
            "5 . Score :    (Score : 0.7258) \n",
            "\n",
            "paper_id:   35027821fc45828a6b0a8b699fec84ee8243fd13 \n",
            "\n",
            "Title:    State substance abuse and mental health<br>managed care evaluation program \n",
            "\n",
            "Abstract:   the articles in this special section of the journal of behavioral health services  research 301 present results from evaluations of publicly funded managed care initiatives for substance abuse and mental health treatment in arizona iowa maryland and nebraska this overview outlines the four managed care programs and summarizes the results from the studies the evaluations used administrative data and suggest a continuing challenge to structure plans so that undesired deleterious effects associated with adverse selection are minimized successful plans balanced risk with limited revenues so that they permitted greater access to less intensive services shifts from inpatient services to outpatient care were noted in most states future evaluations might conduct patient interviews to examine the effectiveness and quality of services for mental health and substance abuse problems more closely \n",
            "\n",
            "Abstract_Summary:    The articles in this special section of the<br>Journal of Behavioral Health Services & Research<br>(30:1) present results from evaluations of publicly<br>funded managed care initiatives for substance abuse<br>and mental health treatment in Arizona, Iowa,<br>Maryland, and Nebraska. This overview outlines the four<br>managed care programs and summarizes the results from<br>the studies. The evaluations used administrative<br>data and suggest a continuing challenge to<br>structure plans so that undesired deleterious effects<br>associated with adverse selection are minimized.<br>Successful plans balanced risk with limited revenues so<br>that they permitted greater access to less<br>intensive services. Shifts from inpatient services to... \n",
            "\n",
            "-------------------------------------------\n",
            "\n",
            "\n",
            "=========================================================\n",
            "==========================Query==============================\n",
            "=== Resources to support skilled nursing facilities and long term care facilities. =====\n",
            "=========================================================\n",
            "1 . Score :    (Score : 0.7480) \n",
            "\n",
            "paper_id:   1a9035bb67cc034f5821865b7b1a7fa1487ddf50 \n",
            "\n",
            "Title:    Severe acute respiratory syndrome outbreak<br>promotes a strong sense of professional identity among<br>nursing students \n",
            "\n",
            "Abstract:   this is a phenomenological study that examined nursing students perception of nursing professional identity during severe acute respiratory syndrome sars outbreak in hong kong in 2003 the aim of the study was to find out how the impact of the sars event might have affected nursing students in identification with the nursing profession a total of 10 nursing students were interviewed this study showed that the sars crisis enhanced a reconstruction of worldview and affirmed the professional identity of nursing students central themes derived from the interview were 1 appreciation and sharing of nursing identity 2 a sense of moral duty 3 a change of worldview and feeling of selfgrowth this study provided insights to nursing education that acquisition of professional identity could be enhanced through reflective appreciation of critical events such as sars \n",
            "\n",
            "Abstract_Summary:    This is a phenomenological study that examined<br>nursing students’ perception of nursing professional<br>identity during severe acute respiratory syndrome<br>(SARS) outbreak in Hong Kong in 2003. The aim of the<br>study was to find out how the impact of the SARS event<br>might have affected nursing students in<br>identification with the nursing profession. A total of 10<br>nursing students were interviewed. This study showed<br>that the SARS crisis enhanced a reconstruction of<br>worldview and affirmed the professional identity of<br>nursing students. Central themes derived from the<br>interview were (1) appreciation and sharing of nursing<br>identity; (2) a sense of moral... \n",
            "\n",
            "-------------------------------------------\n",
            "2 . Score :    (Score : 0.7417) \n",
            "\n",
            "paper_id:   4235b9a8fa6963907aba8a83b9c354c943716197 \n",
            "\n",
            "Title:    Guidelines to Reduce Hospitalization Rates<br>for Patients Receiving Curative-Intent<br>Radiation Therapy During the COVID-19 Pandemic: Report<br>from a Multicenter New York Area Institution \n",
            "\n",
            "Abstract:   as the covid19 pandemic spreads around the globe access to radiation therapy remains critical for cancer patients the priority for all radiation oncology departments is to protect the staff and to maintain operations in providing access to those patients requiring radiation therapy services patients with tumors of the aerodigestive tract and pelvis amongst others often experience toxicity during treatment and there is a baseline risk that adverse effects may require hospitalbased management routine care during weekly visits is important to guide patients through treatment and to mitigate against the need for hospitalization nevertheless hospitalizations occur and there is a risk of nosocomial sarscov2 spread during the covid19 pandemic typical resources used to help manage patients such as dental services interventional radiology rehabilitation and others are limited or not at all available recognizing the need to provide access to treatment and the anticipated toxicity of such treatment we have developed and implemented guidelines for clinical care management with the hope of avoiding added risk to our patients if successful these concepts may be integrated into our care directives in nonpandemic times \n",
            "\n",
            "Abstract_Summary:    As the COVID-19 pandemic spreads around the<br>globe, access to radiation therapy remains critical<br>for cancer patients. The priority for all<br>radiation oncology departments is to protect the staff<br>and to maintain operations in providing access to<br>those patients requiring radiation therapy<br>services. Patients with tumors of the aerodigestive<br>tract and pelvis amongst others often experience<br>toxicity during treatment, and there is a baseline risk<br>that adverse effects may require hospital-based<br>management. Routine care during weekly visits is important<br>to guide patients through treatment and to<br>mitigate against the need for hospitalization.<br>Nevertheless, hospitalizations occur and there is a risk... \n",
            "\n",
            "-------------------------------------------\n",
            "3 . Score :    (Score : 0.7405) \n",
            "\n",
            "paper_id:   db71494d0f190127448b540daeb7278a186437c1 \n",
            "\n",
            "Title:    Chapter 9. Educational process \n",
            "\n",
            "Abstract:   purpose to provide recommendations and standard operating procedures sops for intensive care unit icu and hospital preparations for an influenza pandemic or mass disaster with focus on education of all stakeholders specifically the emergency executive control groups icu staff and staff coopted to assist with patient management methods based on a literature review and expert opinion a delphi process was used to define the essential topics including staff education results key recommendations include 1 define functional roles and responsibilities of the internal personnel and interface agencies or sectors 2 determine logistic support and requirements necessary for the effective implementation of the sops 3 determine what is required to maintain the sops 4 recommended training and activities include a personal protection techniques b environmental contamination c medical management d laboratory specimens e alert lists f training of recruited staff g ethical issues h psychosocial issues i dealing with the deceased j policies for restricting visitors k mechanisms for enforcing policies 5 training should begin as soon as possible with daily demonstrations followed by supervised practice 6 identify the staff to participate in training programs verify that they have participated and evaluate their knowledge subsequently conclusions judicious planning and adoption of protocols for staff education are necessary to optimize outcomes during a pandemic \n",
            "\n",
            "Abstract_Summary:    PURPOSE: To provide recommendations and<br>standard operating procedures (SOPs) for intensive<br>care unit (ICU) and hospital preparations for an<br>influenza pandemic or mass disaster with focus on<br>education of all stakeholders, specifically the<br>emergency executive control groups, ICU staff and staff<br>co-opted to assist with patient management. METHODS:<br>Based on a literature review and expert opinion, a<br>Delphi process was used to define the essential<br>topics, including staff education. RESULTS: Key<br>recommendations include: (1) define functional roles and<br>responsibilities of the internal personnel and interface<br>agencies or sectors; (2) determine logistic support and<br>requirements necessary for the effective implementation of... \n",
            "\n",
            "-------------------------------------------\n",
            "4 . Score :    (Score : 0.7255) \n",
            "\n",
            "paper_id:   7e177aca59dff7edd39e8d2cb0f11e6642b484bb \n",
            "\n",
            "Title:    Impact of fluid balance on outcome of adult<br>patients treated with extracorporeal membrane<br>oxygenation \n",
            "\n",
            "Abstract:   purpose to assess the relationship between early daily fluid balance fb and 90day outcome in adult patients treated with extracorporeal membrane oxygenation ecmo design retrospective observational study setting tertiary referral centre for ecmo patients 115 patients treated with ecmo for refractory heart failure and 57 patients treated with ecmo for refractory respiratory failure methods we analysed the association between early daily fb versus hospital and 90day mortality using multivariable logistic regression model cox proportionalhazards model and propensity score results we obtained detailed demographic clinical and biochemical data daily fb and continuous renal replacement days fiftyseven per cent of patients had acute kidney injury aki at ecmo initiation and 60  n  103 of patients received continuous renal replacement therapy crrt during ecmo course beginning at a median of 1 035 days after ecmo initiation overall 90day mortality was 24  survivors exhibited lower daily fb from day 3 to day 5 after adjustments acute physiology and chronic health evaluation apache iii crrt during the first 3 days major bleeding event at day 1 and positive fb on day 3 were independent predictors of 90day mortality positive fb at ecmo day 3 remained an independent predictor of hospital and 90day mortality regardless of the statistical model used or the inclusion of a propensity score to have positive fb conclusions positive fb at ecmo day 3 is an independent predictor of 90day mortality further interventional studies aimed at testing the value of strategy of tight control of fb during the early ecmo period are now warranted electronic supplementary material the online version of this article doi101007s0013401433602 contains supplementary material which is available to authorized users \n",
            "\n",
            "Abstract_Summary:    PURPOSE: To assess the relationship between<br>early daily fluid balance (FB) and 90-day outcome in<br>adult patients treated with extracorporeal<br>membrane oxygenation (ECMO). DESIGN: Retrospective<br>observational study. SETTING: Tertiary referral centre for<br>ECMO. PATIENTS: 115 patients treated with ECMO for<br>refractory heart failure and 57 patients treated with ECMO<br>for refractory respiratory failure. METHODS: We<br>analysed the association between early daily FB versus<br>hospital and 90-day mortality using multivariable<br>logistic regression model, Cox proportional-hazards<br>model and propensity score. RESULTS: We obtained<br>detailed demographic, clinical, and biochemical data,<br>daily FB, and continuous renal replacement days.<br>Fifty-seven per cent of patients had... \n",
            "\n",
            "-------------------------------------------\n",
            "5 . Score :    (Score : 0.7213) \n",
            "\n",
            "paper_id:   67eb876d5e937b3c1518aa2a78216c7eff2d753a \n",
            "\n",
            "Title:    Developing and testing a measure of COVID-19<br>Organizational Support of Healthcare Workers – Results from<br>Peru, Ecuador, and Bolivia \n",
            "\n",
            "Abstract:   during the covid19 pandemic healthcare workers are facing high workloads with resource constraints and risk of virus exposure and healthcare organizations need to support their healthcare workers to reduce their anxiety based on a recent 8point framework of covid19 specific organization support we devised a measure of covid19 organizational support covidos we tested the new measure with 712 healthcare workers in bolivia ecuador and peru and found the new measure formed three factors to predict healthcare workers anxiety and life satisfaction during the covid19 pandemic we call for further studies to test covidos in other countries and settings \n",
            "\n",
            "Abstract_Summary:    During the COVID-19 pandemic, healthcare<br>workers are facing high workloads with resource<br>constraints and risk of virus exposure, and healthcare<br>organizations need to support their healthcare workers to<br>reduce their anxiety. Based on a recent 8-point<br>framework of COVID-19 specific organization support, we<br>devised a measure of COVID-19 Organizational Support<br>(COVID-OS). We tested the new measure with 712 healthcare<br>workers in Bolivia, Ecuador, and Peru and found the new<br>measure formed three factors to predict healthcare<br>workers’ anxiety and life satisfaction during the<br>COVID-19 pandemic. We call for further studies to test<br>COVID-OS in other countries and settings. \n",
            "\n",
            "-------------------------------------------\n",
            "\n",
            "\n",
            "=========================================================\n",
            "==========================Query==============================\n",
            "=== Mobilization of surge medical staff to address shortages in overwhelmed communities . =====\n",
            "=========================================================\n",
            "1 . Score :    (Score : 0.7794) \n",
            "\n",
            "paper_id:   eec4d85db2455f1bd983ddffad86bb8d3ef3eda8 \n",
            "\n",
            "Title:    Impact of the Coronavirus (COVID-19) pandemic<br>on surgical practice - Part 1 (Review Article) \n",
            "\n",
            "Abstract:   the coronavirus covid19 pandemic has resulted in over 23 million confirmed cases and over 160000 deaths the impact of covid19 on surgical practice is widespread ranging from workforce and staffing issues procedural prioritisation viral transmission risk intraoperatively changes to perioperative practice and ways of working alongside the impact on surgical education and training whilst there has been a growing literature base describing the early clinical course of covid19 and on aspects of critical care related to treating these patients there has been a dearth of evidence on how this pandemic will affect surgical practice this paper seeks to review the current evidence and offers recommendations for changes to surgical practice to minimise the effect of the covid19 pandemic \n",
            "\n",
            "Abstract_Summary:    The Coronavirus (COVID-19) pandemic has<br>resulted in over 2.3 million confirmed cases and over<br>160,000 deaths. The impact of COVID-19 on surgical<br>practice is widespread ranging from workforce and<br>staffing issues, procedural prioritisation, viral<br>transmission risk intraoperatively, changes to<br>perioperative practice and ways of working alongside the<br>impact on surgical education and training. Whilst<br>there has been a growing literature base describing<br>the early clinical course of COVID-19 and on<br>aspects of critical care related to treating these<br>patients, there has been a dearth of evidence on how this<br>pandemic will affect surgical practice. This paper<br>seeks to review the... \n",
            "\n",
            "-------------------------------------------\n",
            "2 . Score :    (Score : 0.7772) \n",
            "\n",
            "paper_id:   646484c8081b3f1bf336bae89411c2aa86885788 \n",
            "\n",
            "Title:    General Practice and Pandemic Influenza: A<br>Framework for Planning and Comparison of Plans in Five<br>Countries \n",
            "\n",
            "Abstract:   background although primary health care and in particular general practice will be at the frontline in the response to pandemic influenza there are no frameworks to guide systematic planning for this task or to appraise available plans for their relevance to general practice we aimed to develop a framework that will facilitate planning for general practice and used it to appraise pandemic plans from australia england usa new zealand and canada methodologyprincipal findings we adapted the haddon matrix to develop the framework populating its cells through a multimethod study that incorporated the peerreviewed and grey literature interviews with general practitioners practice nurses and senior decisionmakers and desktop simulation exercises we used the framework to analyse 89 publiclyavailable jurisdictional plans at similar managerial levels in the five countries the framework identifies four functional domains clinical care for influenza and other needs public health responsibilities the internal environment and the macroenvironment of general practice no plan addressed all four domains most plans either ignored or were sketchy about noninfluenza clinical needs and about the contribution of general practice to public health beyond surveillance collaborations between general practices were addressed in few plans and interrelationships with the broader health system even less frequently conclusions this is the first study to provide a framework to guide general practice planning for pandemic influenza the framework helped identify critical shortcomings in available plans engaging general practice effectively in planning is challenging particularly where governance structures for primary health care are weak we identify implications for practice and for research \n",
            "\n",
            "Abstract_Summary:    BACKGROUND: Although primary health care, and<br>in particular, general practice will be at the<br>frontline in the response to pandemic influenza, there<br>are no frameworks to guide systematic planning for<br>this task or to appraise available plans for their<br>relevance to general practice. We aimed to develop a<br>framework that will facilitate planning for general<br>practice, and used it to appraise pandemic plans from<br>Australia, England, USA, New Zealand and Canada.<br>METHODOLOGY/PRINCIPAL FINDINGS: We adapted the Haddon matrix to<br>develop the framework, populating its cells through a<br>multi-method study that incorporated the peer-reviewed and<br>grey literature, interviews with general<br>practitioners,... \n",
            "\n",
            "-------------------------------------------\n",
            "3 . Score :    (Score : 0.7682) \n",
            "\n",
            "paper_id:   3400b31f6367fbcbb6d965c0668dcce26dca136f \n",
            "\n",
            "Title:    Disaster Preparedness and Response for the<br>Burn Mass Casualty Incident in the Twenty-first<br>Century \n",
            "\n",
            "Abstract:   the effective and efficient coordination of emergent patient care at the point of injury followed by the systematic resourcebased triage of casualties are the most critical factors that influence patient outcomes after mass casualty incidents mcis the effectiveness and appropriateness of implemented actions are largely determined by the extent and efficacy of the planning and preparation that occur before the mci the goal of this work was to define the essential efforts related to planning preparation and execution of acute and subacute medical care for disaster burn casualties this type of mci is frequently referred to as a burn mci \n",
            "\n",
            "Abstract_Summary:    The effective and efficient coordination of<br>emergent patient care at the point of injury followed by<br>the systematic resource-based triage of<br>casualties are the most critical factors that influence<br>patient outcomes after mass casualty incidents<br>(MCIs). The effectiveness and appropriateness of<br>implemented actions are largely determined by the extent<br>and efficacy of the planning and preparation that<br>occur before the MCI. The goal of this work was to<br>define the essential efforts related to planning,<br>preparation, and execution of acute and subacute medical<br>care for disaster burn casualties. This type of MCI<br>is frequently referred to as a burn MCI.” \n",
            "\n",
            "-------------------------------------------\n",
            "4 . Score :    (Score : 0.7676) \n",
            "\n",
            "paper_id:   3a2794e9839e806f62f53cfe6da518bcc7584649 \n",
            "\n",
            "Title:    Clinical Management of Patients Infected with<br>Highly Pathogenic Microorganisms \n",
            "\n",
            "Abstract:   the clinical management of high consequence infectious diseases hcid poses an immense challenge seen largely varying standards in terms of infection prevention control ipc as well as in quality of clinical care this chapter gives an overview of possible treatment as well as ipc options lessons learned within the german permanent working group of competence and treatment centres for highly infectious lifethreatening diseases stakob are taken into account \n",
            "\n",
            "Abstract_Summary:    The clinical management of high consequence<br>infectious diseases (HCID) poses an immense challenge,<br>seen largely varying standards in terms of<br>infection prevention control (IPC) as well as in quality<br>of clinical care. This chapter gives an overview<br>of possible treatment as well as IPC options.<br>Lessons learned within the German Permanent Working<br>Group of Competence and Treatment Centres for highly<br>infectious, life-threatening diseases (STAKOB) are taken<br>into account. \n",
            "\n",
            "-------------------------------------------\n",
            "5 . Score :    (Score : 0.7614) \n",
            "\n",
            "paper_id:   5ff6791ca8c49b102491e7d4a59d4789958b4d0c \n",
            "\n",
            "Title:    COVID-19 Disease: Perspectives in Low- and<br>Middle-Income Countries \n",
            "\n",
            "Abstract:   abstract pandemics such as covid19 bring significant challenges for all health services especially those in lowto lowmiddle income countries where access to supplement and expand services may be difficult for these countries with a limited workforce the loss of key workers to the illness itself or the need to selfisolate following contact can paralyse service delivery this article looks at some of the issues that may arise and strategies to overcome them it includes a case study from viet nam illustrating the need for a rapid integrated response to contact and prevent further outbreaks caring for covid19 patients is a heavily dependent on the skills and expertise of the nurses there is therefore a need to share nursing interventions that can be implemented without major resource implications in all hospital departments \n",
            "\n",
            "Abstract_Summary:    Abstract Pandemics such as COVID-19 bring<br>significant challenges for all health services,<br>especially those in low-to low-middle income countries,<br>where access to supplement and expand services may be<br>difficult. For these countries with a limited workforce<br>the loss of key workers to the illness itself or the<br>need to self-isolate following contact can<br>paralyse service delivery. This article looks at some of<br>the issues that may arise and strategies to<br>overcome them. It includes a case study from Viet Nam<br>illustrating the need for a rapid integrated response to<br>contact and prevent further outbreaks. Caring for<br>COVID-19 patients is a... \n",
            "\n",
            "-------------------------------------------\n",
            "\n",
            "\n",
            "=========================================================\n",
            "==========================Query==============================\n",
            "=== Age-adjusted mortality data for Acute Respiratory Distress Syndrome (ARDS) with/without other organ failure – particularly for viral etiologies . =====\n",
            "=========================================================\n",
            "1 . Score :    (Score : 0.8077) \n",
            "\n",
            "paper_id:   7623bc4c990a3dee87efed8d703a3b3453378b79 \n",
            "\n",
            "Title:    Transmissibility of COVID-19 in 11 major<br>cities in China and its association with temperature<br>and humidity in Beijing, Shanghai, Guangzhou, and<br>Chengdu \n",
            "\n",
            "Abstract:   background the new coronavirus disease covid19 began in december 2019 and has spread rapidly by humantohuman transmission this study evaluated the transmissibility of the infectious disease and analyzed its association with temperature and humidity to study the propagation pattern of covid19 methods in this study we revised the reported data in wuhan based on several assumptions to estimate the actual number of confirmed cases considering that perhaps not all cases could be detected and reported in the complex situation there then we used the equation derived from the susceptibleexposedinfectiousrecovered seir model to calculate r0 from january 24 2020 to february 13 2020 in 11 major cities in china for comparison with the calculation results we conducted correlation analysis and regression analysis between r0 and temperature and humidity for four major cities in china to see the association between the transmissibility of covid19 and the weather variables results it was estimated that the cumulative number of confirmed cases had exceeded 45 000 by february 13 2020 in wuhan the average r0 in wuhan was 27 significantly higher than those in other cities ranging from 18 to 24 the inflection points in the cities outside hubei province were between january 30 2020 and february 3 2020 while there had not been an obvious downward trend of r0 in wuhan r0 negatively correlated with both temperature and humidity which was significant at the 001 level conclusions the transmissibility of covid19 was strong and importance should be attached to the intervention of its transmission especially in wuhan according to the correlation between r0 and weather the spread of disease will be suppressed as the weather warms \n",
            "\n",
            "Abstract_Summary:    BACKGROUND: The new coronavirus disease<br>COVID-19 began in December 2019 and has spread rapidly by<br>human-to-human transmission. This study evaluated the<br>transmissibility of the infectious disease and analyzed its<br>association with temperature and humidity to study the<br>propagation pattern of COVID-19. METHODS: In this study, we<br>revised the reported data in Wuhan based on several<br>assumptions to estimate the actual number of confirmed<br>cases considering that perhaps not all cases could be<br>detected and reported in the complex situation there.<br>Then we used the equation derived from the<br>Susceptible-Exposed-Infectious-Recovered (SEIR) model to calculate R(0) from January 24,<br>2020 to February... \n",
            "\n",
            "-------------------------------------------\n",
            "2 . Score :    (Score : 0.7994) \n",
            "\n",
            "paper_id:   475d4a59b08bc0524da46806dae55989e57dac4e \n",
            "\n",
            "Title:    Clinical Features Predicting Mortality Risk<br>in Patients With Viral Pneumonia: The MuLBSTA<br>Score \n",
            "\n",
            "Abstract:   objective the aim of this study was to further clarify clinical characteristics and predict mortality risk among patients with viral pneumonia methods a total of 528 patients with viral pneumonia at ruijin hospital in shanghai from may 2015 to may 2019 were recruited multiplex realtime rtpcr was used to detect respiratory viruses demographic information comorbidities routine laboratory examinations immunological indexes etiological detections radiological images and treatment were collected on admission results 76 144 patients died within 90 days in hospital a predictive mulbsta score was calculated on the basis of a multivariate logistic regression model in order to predict mortality with a weighted score that included multilobular infiltrates or  520 95 ci 1411252 p  0010 5 points lymphocyte  08109l or  453 95 ci 255805 p  0001 4 points bacterial coinfection or  371 95 ci 211651 p  0001 4 points acutesmoker or  319 95 ci 134626 p  0001 3 points quitsmoker or  218 95 ci 099482 p  0054 2 points hypertension or  239 95 ci 155426 p  0003 2 points and age 60 years or  214 95 ci 104439 p  0038 2 points 12 points was used as a cutoff value for mortality risk stratification this model showed sensitivity of 0776 specificity of 0778 and a better predictive ability than curb65 auroc  0773 vs 0717 p  0001 conclusion here we designed an easytouse clinically predictive tool for assessing 90day mortality risk of viral pneumonia it can accurately stratify hospitalized patients with viral pneumonia into relevant risk categories and could provide guidance to make further clinical decisions \n",
            "\n",
            "Abstract_Summary:    OBJECTIVE: The aim of this study was to further<br>clarify clinical characteristics and predict<br>mortality risk among patients with viral pneumonia.<br>METHODS: A total of 528 patients with viral pneumonia at<br>RuiJin hospital in Shanghai from May 2015 to May 2019<br>were recruited. Multiplex real-time RT-PCR was<br>used to detect respiratory viruses. Demographic<br>information, comorbidities, routine laboratory<br>examinations, immunological indexes, etiological<br>detections, radiological images and treatment were<br>collected on admission. RESULTS: 76 (14.4%) patients<br>died within 90 days in hospital. A predictive<br>MuLBSTA score was calculated on the basis of a<br>multivariate logistic regression model in order to predict<br>mortality... \n",
            "\n",
            "-------------------------------------------\n",
            "3 . Score :    (Score : 0.7970) \n",
            "\n",
            "paper_id:   66a3eded4d7bae681a0079a333c4acb75fe05828 \n",
            "\n",
            "Title:    Human bocavirus, coronavirus, and<br>polyomavirus detected among patients hospitalised with<br>severe acute respiratory illness in South Africa,<br>2012 to 2013 \n",
            "\n",
            "Abstract:   aim to investigate the prevalence of human bocavirus hbov human coronaviruses hcov and human polyomaviruses hpyv among patients with severe acute respiratory illness sari in south africa methods the study included 680 south african patients randomly selected in agedefined categories from hospitalised patients enrolled through sari surveillance during 2012 to 2013 a multiplex reverse transcription realtime polymerase chain reaction assay was used to detect hbov hcovoc43 hcov229e hcovnl63 and hcovhku1 and washington university hpyv hpyvwu and karolinska insitute hpyv hpyvki in respiratory tract specimens collected from patients with sari all respiratory specimens from patients enrolled through sari surveillance were also routinely tested by multiplex reverse transcription realtime polymerase chain reaction for adenovirus enterovirus human metapneumovirus parainfluenza virus types 1 2 and 3 respiratory syncytial virus rhinovirus influenza a and influenza b results human bocavirus hcov229e and hpyvwu were detected in 37 25680 41 28680 and 41 28680 of respiratory specimens respectively all other viruses were detected in 2 of specimens rhinovirus was the most common coinfecting virus 214607 followed by adenovirus 214393 and respiratory syncytial virus 107240 testing for the additional viruses hbov hcov and hpyv decreased the number of specimens that initially tested negative by 29 20680 conclusion inclusion of laboratory tests for hbov hcov229e and hpyvwu in differential testing algorithms for surveillance and diagnostics for suspected cases of respiratory illness of unknown cause may improve our understanding of the etiology of sari especially in a country like south africa with a high number of immune compromised persons \n",
            "\n",
            "Abstract_Summary:    AIM: To investigate the prevalence of human<br>bocavirus (hBoV), human coronaviruses (hCoV), and human<br>polyomaviruses (hPyV) among patients with severe acute<br>respiratory illness (SARI), in South Africa. METHODS: The<br>study included 680 South African patients randomly<br>selected in age‐defined categories from hospitalised<br>patients enrolled through SARI surveillance during<br>2012 to 2013. A multiplex reverse transcription<br>real‐time polymerase chain reaction assay was used to<br>detect hBoV; hCoV‐OC43, hCoV‐229E, hCoV‐NL63, and<br>hCoV‐HKU1; and Washington University hPyV (hPyV‐WU) and<br>Karolinska Insitute hPyV (hPyV‐KI), in respiratory tract<br>specimens collected from patients with SARI. All<br>respiratory specimens from patients enrolled through SARI<br>surveillance were also... \n",
            "\n",
            "-------------------------------------------\n",
            "4 . Score :    (Score : 0.7968) \n",
            "\n",
            "paper_id:   d05bd9b2a6536a3a64fb6156fc3fc116ec577625 \n",
            "\n",
            "Title:    Influenza vaccine effectiveness estimates in<br>the Dutch population from 2003 to 2014: The<br>test-negative design case-control study with different<br>control groups \n",
            "\n",
            "Abstract:   information about influenza vaccine effectiveness ive is important for vaccine strain selection and immunization policy decisions the testnegative design tnd casecontrol study is commonly used to obtain ive estimates however the definition of the control patients may influence ive estimates we have conducted a tnd study using the dutch sentinel practices of nivel primary care database which includes data from patients who consulted the general practitioner gp for an episode of acute influenzalike illness ili or acute respiratory infection ari with known influenza vaccination status cases were patients tested positive for influenza virus controls were grouped into those who tested 1 negative for influenza virus all influenza negative 2 negative for influenza virus but positive for respiratory syncytial virus rhinovirus or enterovirus noninfluenza virus positive and 3 negative for these four viruses pannegative we estimated the ive over all epidemic seasons from 20032004 through 20132014 pooled ive for influenza vaccine partialfull matched and mismatched seasons and the individual seasons using generalized linear mixedeffect and multiple logistic regression models the overall ive adjusted for age gp iliari diagnosis chronic disease and respiratory allergy was 35 95 ci 1548 64 95 ci 4975 and 21 95 ci 1 to 39 for all influenza negative noninfluenza virus positive and pannegative controls respectively in both the main and subgroup analyses ive estimates were the highest using noninfluenza virus positive controls likely due to limiting inclusion of controls without laboratoryconfirmation of a virus causing the respiratory disease \n",
            "\n",
            "Abstract_Summary:    Information about influenza vaccine<br>effectiveness (IVE) is important for vaccine strain<br>selection and immunization policy decisions. The<br>test-negative design (TND) case-control study is commonly<br>used to obtain IVE estimates. However, the<br>definition of the control patients may influence IVE<br>estimates. We have conducted a TND study using the Dutch<br>Sentinel Practices of NIVEL Primary Care Database which<br>includes data from patients who consulted the General<br>Practitioner (GP) for an episode of acute influenza-like<br>illness (ILI) or acute respiratory infection (ARI)<br>with known influenza vaccination status. Cases<br>were patients tested positive for influenza virus.<br>Controls were grouped into those who tested... \n",
            "\n",
            "-------------------------------------------\n",
            "5 . Score :    (Score : 0.7949) \n",
            "\n",
            "paper_id:   1cf3629cfea7432f34ada55a60e9cfdada8a07c2 \n",
            "\n",
            "Title:    Sequential symptomatic analysis in probable<br>severe acute respiratory syndrome cases() \n",
            "\n",
            "Abstract:   study objective previous reports on severe acute respiratory syndrome sars described mainly its symptoms however the time sequence of symptom development was rarely discussed the objective of this study is to chronologically document the time sequence of symptom development in probable sars cases and compare that of the febrile nonsars cases thus providing valuable information for early recognition of the disease methods this prospective descriptive cohort study was conducted in an academic university hospital in taipei taiwan from march 14 through may 12 2003 patients presenting to the emergency department ed with a temperature of at least 380c 1003f and exposure history were evaluated with a structured protocol detailed time sequences of individual symptoms were recorded and chest radiography and laboratory test results were obtained probable sars cases were determined by the center of disease control taiwan children younger than 15 years and suspected sars patients with negative polymerase chain reaction results were excluded from final analysis results seventynine sars and 220 nonsars cases were analyzed the major clinical symptoms of sars patients on ed presentation were myalgia loose stool or diarrhea nonproductive cough or dyspnea headache and chills upper airway symptoms including rhinorrhea and sore throat were rarely seen in the sars patients but were common in the nonsars group characteristic symptom sequence consisting of initial fever accompanied by diarrhea and myalgia and then progressive respiratory symptoms was identified in 55 sars patients 696 95 confidence interval [ci] 060 to 080 but only 7 32 95 ci 0008 to 005 nonsars patients chest radiographic abnormality may precede lower respiratory tract symptoms in some sars patients conclusion during an outbreak period recognition of possible sars cases depends on the heightened awareness of its clinical presentation aside from travel and contact history the time sequence of the accompanying symptoms of sars should help firstline physicians screen sars patients at an early stage \n",
            "\n",
            "Abstract_Summary:    STUDY OBJECTIVE: Previous reports on severe<br>acute respiratory syndrome (SARS) described mainly<br>its symptoms. However, the time sequence of<br>symptom development was rarely discussed. The<br>objective of this study is to chronologically document<br>the time sequence of symptom development in<br>probable SARS cases and compare that of the febrile<br>non-SARS cases, thus providing valuable information<br>for early recognition of the disease. METHODS:<br>This prospective, descriptive, cohort study was<br>conducted in an academic university hospital in Taipei,<br>Taiwan, from March 14 through May 12, 2003. Patients<br>presenting to the emergency department (ED) with a<br>temperature of at least 38.0°C (≥100.3°F) and... \n",
            "\n",
            "-------------------------------------------\n"
          ],
          "name": "stdout"
        }
      ]
    },
    {
      "cell_type": "code",
      "metadata": {
        "id": "nP3Ekpz5bU04",
        "colab_type": "code",
        "colab": {
          "base_uri": "https://localhost:8080/",
          "height": 34
        },
        "outputId": "78660e51-5379-4e38-a4e5-b22a1c33b949"
      },
      "source": [
        "## to send the pickle file to drive\n",
        "\n",
        "# from google.colab import drive\n",
        "# drive.mount('drive')\n",
        "# dr = \"drive/My Drive/datasets/\"\n",
        "# import pickle as pkl\n",
        "# with open(dr+\"corpus_embeddings.pkl\" , \"wb\") as file_:\n",
        "#  pkl.dump(corpus_embeddings,file_)"
      ],
      "execution_count": null,
      "outputs": [
        {
          "output_type": "execute_result",
          "data": {
            "text/plain": [
              "RangeIndex(start=0, stop=96216, step=1)"
            ]
          },
          "metadata": {
            "tags": []
          },
          "execution_count": 48
        }
      ]
    }
  ]
}